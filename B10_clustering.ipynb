{
 "cells": [
  {
   "attachments": {},
   "cell_type": "markdown",
   "metadata": {},
   "source": [
    "# <h2><span style=\"color:#2ecc71\"><strong><span style=\"font-family:Verdana,Geneva,sans-serif\">Sobre este experimento...</span></strong></span></h2> \n",
    "\n",
    "La reducción básica (RB) es una técnica matemática que se utiliza para comprimir un número a un número más pequeño. Se realiza modificando las cifras de un número hasta reducirlo a un módulo de la base utilizada. Por ejemplo, si se utiliza la base 10, el objetivo sería reducir el número a un número entre 0 y 9. Si se utiliza la base 3, el objetivo sería reducirlo a un número entre 0 y 2.\n",
    "\n",
    "En términos geométricos, la RB puede ser vista como una proyección en un espacio con una base particular. Por ejemplo, en la base 10, los números se proyectan en un espacio con una base de 10 dimensiones. La RB se realiza proyectando los números en un espacio con una base menor y tomando el resto de la proyección modulo la base."
   ]
  },
  {
   "attachments": {},
   "cell_type": "markdown",
   "metadata": {},
   "source": [
    "# <h1> <span style=\"color:#8e44ad\"><span style=\"font-family:sans-serif\">1 - Formalizaci&oacute;n del experimento</span></span></h1>\n",
    "\n",
    "- 1.1 - Definición del operador\n",
    "- 1.2 - Cálculo de la sucesión\n",
    "- 1.3 - Definición de las sucesiones\n",
    "    - 1.3.1 - Generación mediante cálculo\n",
    "    - 1.3.2 - Obtención mediante dataset"
   ]
  },
  {
   "attachments": {},
   "cell_type": "markdown",
   "metadata": {},
   "source": [
    "## 1.1 - Definición del operador RB"
   ]
  },
  {
   "attachments": {},
   "cell_type": "markdown",
   "metadata": {},
   "source": [
    "Este es el operador de reduccion a base (RB):  \n",
    "Se define como RB(n, m), donde RB es el operador, n el numero, y m el metodo\n",
    "Consiste en dado un numero, obtener la reduccion de ese numero aplicando una suma de sus cifras hasta dejarlo en el rango de numeros perteneciente a la base. Se asume base 10 aunque se podria definir para cualquier base.\n",
    "\n",
    "- Se puede definir para la suma y para la resta\n",
    "- Se puede definir tanto para enteros como flotantes\n",
    "\n",
    "Ej: \n",
    "\n",
    "- RB(15, +) = 1 + 5 = 6 \n",
    "- RB(19, +) = 1 + 9 = 10 = 1 + 0 = 1\n",
    "- RB(19, -) = 1 - 9 = - 8 = -8 + 9 = 1\n",
    "\n",
    "\n"
   ]
  },
  {
   "attachments": {},
   "cell_type": "markdown",
   "metadata": {},
   "source": [
    "### 1.1.1 - Operador +RB_10 (Suma)"
   ]
  },
  {
   "cell_type": "code",
   "execution_count": 2,
   "metadata": {},
   "outputs": [],
   "source": [
    "def rb_10_addition(n):\n",
    "\n",
    "    # Suma los dígitos del numero\n",
    "    n = sum(int(i) for i in str(n))\n",
    "\n",
    "    # Reduccion a la base 10\n",
    "    while n > 9:\n",
    "        n = sum(int(i) for i in str(n))\n",
    "\n",
    "    return int(n)"
   ]
  },
  {
   "cell_type": "code",
   "execution_count": 3,
   "metadata": {},
   "outputs": [
    {
     "data": {
      "text/plain": [
       "9"
      ]
     },
     "execution_count": 3,
     "metadata": {},
     "output_type": "execute_result"
    }
   ],
   "source": [
    "rb_10_addition(123456789)"
   ]
  },
  {
   "cell_type": "code",
   "execution_count": 4,
   "metadata": {},
   "outputs": [
    {
     "name": "stdout",
     "output_type": "stream",
     "text": [
      "0, 1, 2, 3, 4, 5, 6, 7, 8, 9, \n",
      "1, 2, 3, 4, 5, 6, 7, 8, 9, 1, \n",
      "2, 3, 4, 5, 6, 7, 8, 9, 1, 2, "
     ]
    }
   ],
   "source": [
    "for i in range(0, 10):\n",
    "    print(rb_10_addition(i), end=', ')\n",
    "\n",
    "print()\n",
    "for i in range(10, 20):\n",
    "    print(rb_10_addition(i), end=', ')\n",
    "\n",
    "print()\n",
    "for i in range(20, 30):\n",
    "    print(rb_10_addition(i), end=', ')"
   ]
  },
  {
   "attachments": {},
   "cell_type": "markdown",
   "metadata": {},
   "source": [
    "### 1.1.2 - Operador -RB_10 (Resta)"
   ]
  },
  {
   "cell_type": "code",
   "execution_count": 5,
   "metadata": {},
   "outputs": [],
   "source": [
    "def rb_10_subtraction(n):\n",
    "\n",
    "    rb = 0\n",
    "    first = True\n",
    "\n",
    "    # Iteramos sobre los dígitos del número\n",
    "    for i in str(n):\n",
    "\n",
    "        # Si es el primer dígito, lo asignamos a rb\n",
    "        if first:\n",
    "            rb = int(i)\n",
    "            first = False\n",
    "            continue\n",
    "\n",
    "        rb -= int(i)\n",
    "\n",
    "        while rb < 0:\n",
    "            rb += 9\n",
    "    \n",
    "    return rb\n"
   ]
  },
  {
   "cell_type": "code",
   "execution_count": 6,
   "metadata": {},
   "outputs": [
    {
     "name": "stdout",
     "output_type": "stream",
     "text": [
      "0, 1, 2, 3, 4, 5, 6, 7, 8, 9, \n",
      "1, 0, 8, 7, 6, 5, 4, 3, 2, 1, \n",
      "2, 1, 0, 8, 7, 6, 5, 4, 3, 2, "
     ]
    }
   ],
   "source": [
    "for i in range(0, 10):\n",
    "    print(rb_10_subtraction(i), end=', ')\n",
    "\n",
    "print()\n",
    "for i in range(10, 20):\n",
    "    print(rb_10_subtraction(i), end=', ')\n",
    "\n",
    "print()\n",
    "for i in range(20, 30):\n",
    "    print(rb_10_subtraction(i), end=', ')"
   ]
  },
  {
   "attachments": {},
   "cell_type": "markdown",
   "metadata": {},
   "source": [
    "### 1.1.3 - Operador generico"
   ]
  },
  {
   "cell_type": "code",
   "execution_count": 7,
   "metadata": {},
   "outputs": [],
   "source": [
    "def RB_10(n, method):\n",
    "       \n",
    "    # Si el metodo es +, sumamos los dígitos del número\n",
    "    if method == \"+\":\n",
    "        return rb_10_addition(n)\n",
    "    \n",
    "    # Si el metodo es -, restamos los dígitos del número\n",
    "    elif method == \"-\":\n",
    "        return rb_10_subtraction(n)\n",
    "            "
   ]
  },
  {
   "cell_type": "code",
   "execution_count": 8,
   "metadata": {},
   "outputs": [
    {
     "name": "stdout",
     "output_type": "stream",
     "text": [
      "6\n",
      "5\n",
      "6\n",
      "5\n",
      "1\n",
      "1\n",
      "1\n",
      "1\n"
     ]
    }
   ],
   "source": [
    "print(RB_10(15, \"+\"))  # Output: 6\n",
    "print(RB_10(15, \"-\"))  # Output: 5\n",
    "\n",
    "print(RB_10(123, \"+\"))  # Output: 6\n",
    "print(RB_10(123, \"-\"))  # Output: 5\n",
    "\n",
    "print(RB_10(1234, \"+\"))  # Output: 1\n",
    "print(RB_10(1234, \"-\"))  # Output: 1\n",
    "\n",
    "print(RB_10(19, \"+\"))\n",
    "print(RB_10(19, \"-\"))"
   ]
  },
  {
   "attachments": {},
   "cell_type": "markdown",
   "metadata": {},
   "source": [
    "## 1.2 - Cálculo de la sucesion"
   ]
  },
  {
   "attachments": {},
   "cell_type": "markdown",
   "metadata": {},
   "source": [
    "Implementamos una funcion para calcular la sucesion "
   ]
  },
  {
   "cell_type": "code",
   "execution_count": 9,
   "metadata": {},
   "outputs": [],
   "source": [
    "def an_k(a, n, k, a_args=None):\n",
    "    \"\"\"\n",
    "    Funcion que calcula una sucecion de numeros a partir de una funcion a\n",
    "    \n",
    "    Parametros\n",
    "    ----------\n",
    "    a: funcion\n",
    "        Funcion que calcula el valor de la sucecion\n",
    "        \n",
    "    n: int\n",
    "        Valor inicial de la sucecion\n",
    "\n",
    "    k: int\n",
    "        Numero de elementos de la sucecion\n",
    "        \n",
    "    a_args: tuple\n",
    "        Argumentos de la funcion a\n",
    "        \n",
    "    Returns\n",
    "    -------\n",
    "    \n",
    "    k_list: list\n",
    "        Lista con los k elementos de la sucecion      \n",
    "    \n",
    "    \"\"\"\n",
    "    \n",
    "    k_list = []\n",
    "    \n",
    "    if a_args is None:\n",
    "        for i in range(k):\n",
    "            an = a(n)\n",
    "            k_list.append(an)\n",
    "            n+=1\n",
    "    else:\n",
    "        for i in range(k):\n",
    "            an = a(n, a_args)\n",
    "            k_list.append(an)\n",
    "            n+=1\n",
    "        \n",
    "    return k_list\n"
   ]
  },
  {
   "cell_type": "code",
   "execution_count": 10,
   "metadata": {},
   "outputs": [],
   "source": [
    "def n_mas_uno(n):\n",
    "    return n+1"
   ]
  },
  {
   "cell_type": "code",
   "execution_count": 11,
   "metadata": {},
   "outputs": [
    {
     "data": {
      "text/plain": [
       "[1, 2, 3, 4, 5, 6, 7, 8, 9, 10]"
      ]
     },
     "execution_count": 11,
     "metadata": {},
     "output_type": "execute_result"
    }
   ],
   "source": [
    "an_k(n_mas_uno, 0, 10)"
   ]
  },
  {
   "attachments": {},
   "cell_type": "markdown",
   "metadata": {},
   "source": [
    "## 1.3 - Definicion de las sucesiones a explorar"
   ]
  },
  {
   "attachments": {},
   "cell_type": "markdown",
   "metadata": {},
   "source": [
    "### 1.3.1 - Generación mediante cálculo"
   ]
  },
  {
   "cell_type": "code",
   "execution_count": 12,
   "metadata": {},
   "outputs": [],
   "source": [
    "import operator\n",
    "from functools import reduce"
   ]
  },
  {
   "attachments": {},
   "cell_type": "markdown",
   "metadata": {},
   "source": [
    "#### Producto de cifras"
   ]
  },
  {
   "cell_type": "code",
   "execution_count": 13,
   "metadata": {},
   "outputs": [],
   "source": [
    "\n",
    "def producto(n:int):\n",
    "    \"\"\"\n",
    "    Funcion que calcula el producto de los digitos de un numero\n",
    "\n",
    "    Args:\n",
    "        n (int): Numero entero\n",
    "\n",
    "    Returns:\n",
    "        int: Producto de los digitos del numero\n",
    "    \"\"\"\n",
    "\n",
    "    # Convertir el número en una lista de dígitos\n",
    "    digits = list(map(int, str(n)))\n",
    "    # Calcular el producto de los dígitos\n",
    "    product = reduce(operator.mul, digits)\n",
    "\n",
    "    return product"
   ]
  },
  {
   "attachments": {},
   "cell_type": "markdown",
   "metadata": {},
   "source": [
    "Test de la sucesión"
   ]
  },
  {
   "cell_type": "code",
   "execution_count": 14,
   "metadata": {},
   "outputs": [
    {
     "data": {
      "text/plain": [
       "[0, 1, 2, 3, 4, 5, 6, 7, 8, 9, 0, 1, 2, 3, 4, 5, 6, 7, 8, 9, 0, 2, 4, 6, 8]"
      ]
     },
     "execution_count": 14,
     "metadata": {},
     "output_type": "execute_result"
    }
   ],
   "source": [
    "an_k(producto, 0, 25)"
   ]
  },
  {
   "cell_type": "code",
   "execution_count": 15,
   "metadata": {},
   "outputs": [
    {
     "data": {
      "text/plain": [
       "[10, 12, 14, 16, 18, 0, 3, 6, 9, 12, 15, 18, 21, 24, 27, 0, 4, 8, 12, 16]"
      ]
     },
     "execution_count": 15,
     "metadata": {},
     "output_type": "execute_result"
    }
   ],
   "source": [
    "an_k(producto, 25, 20)"
   ]
  },
  {
   "attachments": {},
   "cell_type": "markdown",
   "metadata": {},
   "source": [
    "Test de la sucesion bajo el operador RB_10"
   ]
  },
  {
   "cell_type": "code",
   "execution_count": 16,
   "metadata": {},
   "outputs": [
    {
     "name": "stdout",
     "output_type": "stream",
     "text": [
      "producto(1231): 6 -> RB_10(6, +) = 6\n",
      "producto(229): 36 -> RB_10(36, -) = 6\n"
     ]
    }
   ],
   "source": [
    "n = 1231\n",
    "method = \"+\"\n",
    "print(\"producto(\" + str(n) + \"):\", producto(n), \"->\", \"RB_10(\" + str(producto(n)) + \", \" + method + \") =\", RB_10(producto(n), method))\n",
    "\n",
    "n = 229\n",
    "method = \"-\"\n",
    "print(\"producto(\" + str(n) + \"):\", producto(n), \"->\", \"RB_10(\" + str(producto(n)) + \", \" + method + \") =\", RB_10(producto(n), method))"
   ]
  },
  {
   "attachments": {},
   "cell_type": "markdown",
   "metadata": {},
   "source": [
    "#### Exponenciacion de cifras"
   ]
  },
  {
   "cell_type": "code",
   "execution_count": 17,
   "metadata": {},
   "outputs": [],
   "source": [
    "def exp_k(n:int, args:list):\n",
    "    \"\"\"\n",
    "    Función que toma un número entero n, obtiene sus digitos y los eleva a la k-ésima potencia\n",
    "    \n",
    "    Args:\n",
    "        n (int): Numero entero\n",
    "        k (int): Potencia a la que se elevaran los digitos del numero (primer elemento de la lista args)\n",
    "        \n",
    "        \n",
    "    Returns:\n",
    "        int: Numero entero\n",
    "    \"\"\"\n",
    "    \n",
    "    k = args[0]\n",
    "    \n",
    "    # Convertir el número en una lista de dígitos\n",
    "    digits = list(map(int, str(n)))\n",
    "\n",
    "    # Elevar cada dígito al cuadrado\n",
    "    digits = [d**k for d in digits]\n",
    "\n",
    "    # Convertir la lista de dígitos en un número\n",
    "    z = int(\"\".join(map(str, digits)))\n",
    "    \n",
    "    return z"
   ]
  },
  {
   "attachments": {},
   "cell_type": "markdown",
   "metadata": {},
   "source": [
    "Test de la sucesión"
   ]
  },
  {
   "cell_type": "code",
   "execution_count": 18,
   "metadata": {},
   "outputs": [
    {
     "data": {
      "text/plain": [
       "[0, 1, 4, 9, 16, 25, 36, 49, 64, 81]"
      ]
     },
     "execution_count": 18,
     "metadata": {},
     "output_type": "execute_result"
    }
   ],
   "source": [
    "an_k(exp_k, 0, 10, [2])"
   ]
  },
  {
   "cell_type": "code",
   "execution_count": 19,
   "metadata": {},
   "outputs": [
    {
     "data": {
      "text/plain": [
       "[0, 1, 8, 27, 64, 125, 216, 343, 512, 729]"
      ]
     },
     "execution_count": 19,
     "metadata": {},
     "output_type": "execute_result"
    }
   ],
   "source": [
    "an_k(exp_k, 0, 10, [3])"
   ]
  },
  {
   "attachments": {},
   "cell_type": "markdown",
   "metadata": {},
   "source": [
    "Test del operador"
   ]
  },
  {
   "cell_type": "code",
   "execution_count": 20,
   "metadata": {},
   "outputs": [
    {
     "name": "stdout",
     "output_type": "stream",
     "text": [
      "exp_k(1231, [0]): 1111 -> RB_10(1111, +) = 4\n",
      "exp_k(222, [2]): 444 -> RB_10(444, +) = 3\n",
      "exp_k(99, [7]): 47829694782969 -> RB_10(47829694782969, -) = 8\n"
     ]
    }
   ],
   "source": [
    "n = 1231\n",
    "k = 0\n",
    "method = \"+\"\n",
    "print(\"exp_k(\"+ str(n) + \", [\" + str(k) + \"]):\", exp_k(n, [k]), \"->\", \"RB_10(\" + str(exp_k(n, [k])) + \", \" + method + \") =\", RB_10(exp_k(n, [k]), method))\n",
    "# ----------------------------\n",
    "\n",
    "n = 222\n",
    "k = 2\n",
    "method = \"+\"\n",
    "print(\"exp_k(\"+ str(n) + \", [\" + str(k) + \"]):\", exp_k(n, [k]), \"->\", \"RB_10(\" + str(exp_k(n, [k])) + \", \" + method + \") =\", RB_10(exp_k(n, [k]), method))\n",
    "# ----------------------------\n",
    "\n",
    "\n",
    "n = 99\n",
    "k = 7\n",
    "method = \"-\"\n",
    "print(\"exp_k(\"+ str(n) + \", [\" + str(k) + \"]):\", exp_k(n, [k]), \"->\", \"RB_10(\" + str(exp_k(n, [k])) + \", \" + method + \") =\", RB_10(exp_k(n, [k]), method))\n",
    "# ----------------------------\n"
   ]
  },
  {
   "attachments": {},
   "cell_type": "markdown",
   "metadata": {},
   "source": [
    "#### Numeros primos"
   ]
  },
  {
   "cell_type": "code",
   "execution_count": 21,
   "metadata": {},
   "outputs": [],
   "source": [
    "def n_primo(n: int):\n",
    "    \"\"\"\n",
    "    Función que toma un número entero n y devuelve el n-ésimo número primo. aplica el operador de reducción a la base 10.\n",
    "\n",
    "    Params:\n",
    "        n: int, entero del cual se calculará el n-ésimo número primo.\n",
    "\n",
    "    Return:\n",
    "        n-ésimo número primo con reducción a la base 10.\n",
    "    \"\"\"\n",
    "\n",
    "\n",
    "    if n == 1:\n",
    "        return 2\n",
    "    if n == 2:\n",
    "        return 3\n",
    "    if n == 3:\n",
    "        return 5\n",
    "    if n == 4:\n",
    "        return 7\n",
    "    if n == 5:\n",
    "        return 11 # 11\n",
    "    if n == 6:\n",
    "        return 13 # 13   \n",
    "\n",
    "    primes = [2, 3, 5, 7, 11, 13]  # los primeros 6 primos\n",
    "    num = 14  # siguiente número a evaluar\n",
    "    prime_count = 6  # contador de números primos encontrados\n",
    "\n",
    "    while prime_count < n:\n",
    "        for p in primes:\n",
    "            if num % p == 0:\n",
    "                break\n",
    "        else:\n",
    "            prime_count += 1\n",
    "            if prime_count == n:\n",
    "                return num\n",
    "        num += 1"
   ]
  },
  {
   "cell_type": "code",
   "execution_count": 22,
   "metadata": {},
   "outputs": [
    {
     "data": {
      "text/plain": [
       "[2, 3, 5, 7, 11, 13, 17, 19, 23, 29]"
      ]
     },
     "execution_count": 22,
     "metadata": {},
     "output_type": "execute_result"
    }
   ],
   "source": [
    "an_k(n_primo, 1, 10)"
   ]
  },
  {
   "cell_type": "code",
   "execution_count": 23,
   "metadata": {},
   "outputs": [
    {
     "name": "stdout",
     "output_type": "stream",
     "text": [
      "n_primo(1) -> 2, n_primo(2) -> 3, n_primo(3) -> 5, n_primo(4) -> 7, n_primo(5) -> 11, n_primo(6) -> 13, n_primo(7) -> 17, n_primo(8) -> 19, n_primo(9) -> 23, "
     ]
    }
   ],
   "source": [
    "# Testeamos la función de los primos\n",
    "\n",
    "for i in range(1, 10):\n",
    "    print(\"n_primo(\" + str(i) + \") ->\", n_primo(i), end=\", \")"
   ]
  },
  {
   "attachments": {},
   "cell_type": "markdown",
   "metadata": {},
   "source": [
    "#### Fibonacci"
   ]
  },
  {
   "cell_type": "code",
   "execution_count": 24,
   "metadata": {},
   "outputs": [],
   "source": [
    "def fibonacci(n):\n",
    "    if n <= 0:\n",
    "        return 0\n",
    "    elif n == 1:\n",
    "        return 1\n",
    "    else:\n",
    "        return fibonacci(n-1) + fibonacci(n-2)"
   ]
  },
  {
   "cell_type": "code",
   "execution_count": 25,
   "metadata": {},
   "outputs": [
    {
     "data": {
      "text/plain": [
       "[0, 1, 1, 2, 3, 5, 8, 13, 21, 34]"
      ]
     },
     "execution_count": 25,
     "metadata": {},
     "output_type": "execute_result"
    }
   ],
   "source": [
    "an_k(fibonacci, 0, 10)"
   ]
  },
  {
   "attachments": {},
   "cell_type": "markdown",
   "metadata": {},
   "source": [
    "#### Otras"
   ]
  },
  {
   "cell_type": "code",
   "execution_count": 26,
   "metadata": {},
   "outputs": [],
   "source": [
    "def n_catalan(n):\n",
    "    if n <= 0:\n",
    "        return 0\n",
    "    elif n == 1:\n",
    "        return 1\n",
    "    else:\n",
    "        res = 0\n",
    "        for i in range(n):\n",
    "            res += n_catalan(i) * n_catalan(n-i-1)\n",
    "        return res\n"
   ]
  },
  {
   "cell_type": "code",
   "execution_count": 27,
   "metadata": {},
   "outputs": [
    {
     "data": {
      "text/plain": [
       "[0, 1, 0, 1, 0, 2, 0, 5, 0, 14]"
      ]
     },
     "execution_count": 27,
     "metadata": {},
     "output_type": "execute_result"
    }
   ],
   "source": [
    "an_k(n_catalan, 0, 10)"
   ]
  },
  {
   "cell_type": "code",
   "execution_count": 28,
   "metadata": {},
   "outputs": [
    {
     "name": "stdout",
     "output_type": "stream",
     "text": [
      "20 primeros de proucto de cifras: [0, 1, 2, 3, 4, 5, 6, 7, 8, 9, 0, 1, 2, 3, 4, 5, 6, 7, 8, 9]\n",
      "20 primeros de potencia de cifras: exp = 2 [0, 1, 4, 9, 16, 25, 36, 49, 64, 81, 10, 11, 14, 19, 116, 125, 136, 149, 164, 181]\n",
      "20 primeros de potencia de cifras: exp = 3 [0, 1, 8, 27, 64, 125, 216, 343, 512, 729, 10, 11, 18, 127, 164, 1125, 1216, 1343, 1512, 1729]\n"
     ]
    }
   ],
   "source": [
    "print(\"20 primeros de proucto de cifras:\", an_k(producto, 0, 20))\n",
    "print(\"20 primeros de potencia de cifras: exp = 2\", an_k(exp_k, 0, 20, [2]))\n",
    "print(\"20 primeros de potencia de cifras: exp = 3\", an_k(exp_k, 0, 20, [3]))"
   ]
  },
  {
   "attachments": {},
   "cell_type": "markdown",
   "metadata": {},
   "source": [
    "### 1.3.2 - Obtención mediante dataset"
   ]
  },
  {
   "attachments": {},
   "cell_type": "markdown",
   "metadata": {},
   "source": [
    "#### Fibonacci"
   ]
  },
  {
   "cell_type": "code",
   "execution_count": 29,
   "metadata": {},
   "outputs": [
    {
     "data": {
      "text/html": [
       "<div>\n",
       "<style scoped>\n",
       "    .dataframe tbody tr th:only-of-type {\n",
       "        vertical-align: middle;\n",
       "    }\n",
       "\n",
       "    .dataframe tbody tr th {\n",
       "        vertical-align: top;\n",
       "    }\n",
       "\n",
       "    .dataframe thead th {\n",
       "        text-align: right;\n",
       "    }\n",
       "</style>\n",
       "<table border=\"1\" class=\"dataframe\">\n",
       "  <thead>\n",
       "    <tr style=\"text-align: right;\">\n",
       "      <th></th>\n",
       "      <th>Iteration</th>\n",
       "      <th>Value</th>\n",
       "    </tr>\n",
       "  </thead>\n",
       "  <tbody>\n",
       "    <tr>\n",
       "      <th>0</th>\n",
       "      <td>0</td>\n",
       "      <td>0</td>\n",
       "    </tr>\n",
       "    <tr>\n",
       "      <th>1</th>\n",
       "      <td>1</td>\n",
       "      <td>1</td>\n",
       "    </tr>\n",
       "    <tr>\n",
       "      <th>2</th>\n",
       "      <td>2</td>\n",
       "      <td>1</td>\n",
       "    </tr>\n",
       "    <tr>\n",
       "      <th>3</th>\n",
       "      <td>3</td>\n",
       "      <td>2</td>\n",
       "    </tr>\n",
       "    <tr>\n",
       "      <th>4</th>\n",
       "      <td>4</td>\n",
       "      <td>3</td>\n",
       "    </tr>\n",
       "  </tbody>\n",
       "</table>\n",
       "</div>"
      ],
      "text/plain": [
       "   Iteration Value\n",
       "0          0     0\n",
       "1          1     1\n",
       "2          2     1\n",
       "3          3     2\n",
       "4          4     3"
      ]
     },
     "execution_count": 29,
     "metadata": {},
     "output_type": "execute_result"
    }
   ],
   "source": [
    "# Leer csv de datos de fibonacci\n",
    "import pandas as pd\n",
    "df = pd.read_csv('datasets/fibonacci_sequence.csv')\n",
    "df.head()"
   ]
  },
  {
   "cell_type": "code",
   "execution_count": 30,
   "metadata": {},
   "outputs": [
    {
     "name": "stdout",
     "output_type": "stream",
     "text": [
      "dataset_fibonacci(0) =  0\n",
      "dataset_fibonacci(1) =  1\n",
      "dataset_fibonacci(2) =  1\n",
      "dataset_fibonacci(3) =  2\n",
      "dataset_fibonacci(23) =  28657\n"
     ]
    }
   ],
   "source": [
    "# Funcion que obtiene fibonacci de n de la lista de datos\n",
    "def dataset_fibonacci(n):\n",
    "    return int(df['Value'][n])\n",
    "\n",
    "# Testeamos la funcion\n",
    "print(\"dataset_fibonacci(0) = \", dataset_fibonacci(0))\n",
    "print(\"dataset_fibonacci(1) = \", dataset_fibonacci(1))\n",
    "print(\"dataset_fibonacci(2) = \", dataset_fibonacci(2))\n",
    "print(\"dataset_fibonacci(3) = \", dataset_fibonacci(3))\n",
    "print(\"dataset_fibonacci(23) = \", dataset_fibonacci(23))"
   ]
  },
  {
   "attachments": {},
   "cell_type": "markdown",
   "metadata": {},
   "source": [
    "# <h1><span style=\"color:#8e44ad\"><span style=\"font-family:Arial,Helvetica,sans-serif\">2 - Visualizacion de los datos</span></span></h1>\n",
    "\n",
    "- 2.1 - Representacion matricial\n",
    "- 2.2 - Supermatrices\n",
    "- 2.3 - Representación gráfica\n",
    "    - 2.3.1 - Manejo del color\n",
    "    - 2.3.2 - Generación de imagenes\n",
    "    - 2.3.3 - Ejemplo de funcionamiento"
   ]
  },
  {
   "attachments": {},
   "cell_type": "markdown",
   "metadata": {},
   "source": [
    "## 2.1 - Representación matricial"
   ]
  },
  {
   "attachments": {},
   "cell_type": "markdown",
   "metadata": {},
   "source": [
    "Definimos una funcion para generar una representacion matricial de los datos"
   ]
  },
  {
   "cell_type": "code",
   "execution_count": 31,
   "metadata": {},
   "outputs": [],
   "source": [
    "\n",
    "def gen_matrix(a, method, n_i, w, h, a_args=None):\n",
    "    \"\"\"\n",
    "    Funcion que toma un número entero n_i, un ancho w y un alto h y devuelve una lista de listas con los números de la sucesión.\n",
    "\n",
    "    Params:\n",
    "        a:función, función que calcula los números de la sucesión.\n",
    "        method:str, método de reducción a la base 10.\n",
    "        n_i:int, entero del cual se calculará la suma de los dígitos del producto de los dígitos.\n",
    "        w:int, ancho\n",
    "        h:int, alto\n",
    "\n",
    "    Return:\n",
    "        lista de listas con los números de la sucesión.\n",
    "\n",
    "    \"\"\" \n",
    "\n",
    "    data_list = []\n",
    "    for i in range(h):\n",
    "        if a_args is None:\n",
    "            k_list = an_k(a, n_i, w)\n",
    "        else:\n",
    "            k_list = an_k(a, n_i, w, a_args)\n",
    "        \n",
    "        for j in range(len(k_list)):\n",
    "            k_list[j] = RB_10(k_list[j], method)\n",
    "        \n",
    "        data_list.append(k_list)\n",
    "        n_i += w\n",
    "\n",
    "    return data_list\n",
    "\n",
    "\n",
    "   "
   ]
  },
  {
   "attachments": {},
   "cell_type": "markdown",
   "metadata": {},
   "source": [
    "Probamos la funcion:\n",
    "\n",
    "\n",
    "- Creamos una matriz de 10x10"
   ]
  },
  {
   "cell_type": "code",
   "execution_count": 32,
   "metadata": {},
   "outputs": [
    {
     "data": {
      "text/plain": [
       "[[0, 1, 2, 3, 4, 5, 6, 7, 8, 9],\n",
       " [0, 1, 2, 3, 4, 5, 6, 7, 8, 9],\n",
       " [0, 2, 4, 6, 8, 1, 3, 5, 7, 9],\n",
       " [0, 3, 6, 9, 3, 6, 9, 3, 6, 9],\n",
       " [0, 4, 8, 3, 7, 2, 6, 1, 5, 9],\n",
       " [0, 5, 1, 6, 2, 7, 3, 8, 4, 9],\n",
       " [0, 6, 3, 9, 6, 3, 9, 6, 3, 9],\n",
       " [0, 7, 5, 3, 1, 8, 6, 4, 2, 9],\n",
       " [0, 8, 7, 6, 5, 4, 3, 2, 1, 9],\n",
       " [0, 9, 9, 9, 9, 9, 9, 9, 9, 9]]"
      ]
     },
     "execution_count": 32,
     "metadata": {},
     "output_type": "execute_result"
    }
   ],
   "source": [
    "# Configuracion de la sucesion\n",
    "# --------------------------------\n",
    "\n",
    "n_0 = 0                 # Termino inicial de la sucesion\n",
    "w = 10                  # Ancho del cluster\n",
    "h = 10                  # Alto del cluster\n",
    "\n",
    "# --------------------------------\n",
    "\n",
    "gen_matrix(producto, \"+\", n_0, w, h)"
   ]
  },
  {
   "cell_type": "code",
   "execution_count": 33,
   "metadata": {},
   "outputs": [
    {
     "data": {
      "text/plain": [
       "[[0, 1, 2, 3, 4, 5, 6, 7, 8, 9],\n",
       " [0, 1, 2, 3, 4, 5, 6, 7, 8, 9],\n",
       " [0, 2, 4, 6, 8, 1, 8, 6, 4, 2],\n",
       " [0, 3, 6, 9, 8, 5, 2, 1, 7, 4],\n",
       " [0, 4, 8, 8, 4, 2, 7, 3, 1, 6],\n",
       " [0, 5, 1, 5, 2, 6, 3, 7, 4, 8],\n",
       " [0, 6, 8, 2, 7, 3, 6, 2, 5, 1],\n",
       " [0, 7, 6, 1, 3, 7, 2, 4, 8, 3],\n",
       " [0, 8, 4, 7, 1, 4, 5, 8, 2, 5],\n",
       " [0, 9, 2, 4, 6, 8, 1, 3, 5, 7]]"
      ]
     },
     "execution_count": 33,
     "metadata": {},
     "output_type": "execute_result"
    }
   ],
   "source": [
    "gen_matrix(producto, \"-\", n_0, w, h)"
   ]
  },
  {
   "attachments": {},
   "cell_type": "markdown",
   "metadata": {},
   "source": [
    "## 2.2 - Supermatrices"
   ]
  },
  {
   "attachments": {},
   "cell_type": "markdown",
   "metadata": {},
   "source": [
    "Una vez visto como podemos crear clusters, podemos crear una matiz de matrices (Supermatriz), considerando cada matriz un elemento, de esta forma:\n",
    "\n",
    "- Una matriz de matrices de 10x10 estara compuesta por 100 matrices\n",
    "\n",
    "\n",
    "<p><span style=\"color: #00ff00;\"><strong>La visualizacion de la Supermatriz, nos da indicio de que existe cierta simetria para algunas sucesiones cuando aplicamos el operador RB (Reduccion a la Base)</strong> </span></p>"
   ]
  },
  {
   "attachments": {},
   "cell_type": "markdown",
   "metadata": {},
   "source": [
    "Para facilitar el proceso de visualizacion, se procede a codificar con un color cada valor posible (0-9).\n",
    "\n",
    "La implementacion de esta funcionalidad esta basada en crear una lista de clusters del tamaño equivalente a la dimension de matriz deseada (h*w)\n",
    "\n",
    "Cada cluster de la lista se codificara en una imagen de las mismas dimensiones que la matriz, y los clusters se iran concatenando en la imagen de izquierda a derecha y de arriba a abajo. (Notese que esto es experimental y no es ninguna regla, se podria implementar multiples variaciones, lo que daria lugar a simetrias con distinto eje, pero simetrias igualmente)"
   ]
  },
  {
   "cell_type": "code",
   "execution_count": 34,
   "metadata": {},
   "outputs": [],
   "source": [
    "def gen_matrix_list(a, method: str, n_0: int, w: int, h: int, count: int, offset:int, a_args=None) -> list[list[int]]:\n",
    "    \"\"\"\n",
    "    Funcion que toma un número entero n_0, un número entero count y un número entero offset y devuelve una lista de listas de listas con los números de la sucesión.\n",
    "\n",
    "    Params:\n",
    "        n_0: int, entero del cual se calculará la suma de los dígitos del producto de los dígitos.\n",
    "        count: int, cantidad de clusters\n",
    "        offset: int, offset entre clusters\n",
    "\n",
    "    Return:\n",
    "        lista de listas de listas con los números de la sucesión.\n",
    "\n",
    "    \"\"\" \n",
    "\n",
    "    cluster = []\n",
    "    for i in range(count):\n",
    "        if a_args is None:\n",
    "            data_list = gen_matrix(a, method, n_0, w, h)\n",
    "        else:\n",
    "            data_list = gen_matrix(a, method, n_0, w, h, a_args)\n",
    "        cluster.append(data_list)\n",
    "        n_0 += offset\n",
    "\n",
    "    return cluster\n"
   ]
  },
  {
   "attachments": {},
   "cell_type": "markdown",
   "metadata": {},
   "source": [
    "Crear lista de 100 matrices:\n",
    "\n",
    "\n",
    "- Como termino inicial de la sucesion, definimos n_0\n",
    "- Como ancho de matriz w\n",
    "- Como alto de matriz h\n",
    "\n"
   ]
  },
  {
   "cell_type": "code",
   "execution_count": 35,
   "metadata": {},
   "outputs": [],
   "source": [
    "# Configuracion de la sucesion deseada\n",
    "# --------------------------------\n",
    "\n",
    "a = producto            # Funcion que calcula los numeros de la sucesion\n",
    "method = \"+\"            # Metodo de reduccion a la base 10\n",
    "n_0 = 0                 # Termino inicial de la sucesion\n",
    "\n",
    "# Configuracion de los clusters\n",
    "# --------------------------------\n",
    "w = 10                  # Ancho de la matriz\n",
    "h = 10                  # Alto de la matriz\n",
    "\n",
    "# Configuracion de la matriz de clusters deseada\n",
    "m_w = 10                # Ancho de la supermatriz\n",
    "m_h = 10                # Alto de la supermatriz\n",
    "offset = h*w            # Offset entre matrices (distancia entre matrices)\n",
    "\n",
    "# Configuracion de la lista de matrices\n",
    "# --------------------------------\n",
    "cluster_count = m_w * m_h\n",
    "\n",
    "\n",
    "# Obtenemos la lista de matrices\n",
    "# --------------------------------\n",
    "matrix_0_to_99 = gen_matrix_list(a, \"+\", n_0, w, h, cluster_count, offset)"
   ]
  },
  {
   "cell_type": "code",
   "execution_count": 36,
   "metadata": {},
   "outputs": [
    {
     "data": {
      "text/plain": [
       "[[0, 0, 0, 0, 0, 0, 0, 0, 0, 0],\n",
       " [0, 1, 2, 3, 4, 5, 6, 7, 8, 9],\n",
       " [0, 2, 4, 6, 8, 1, 3, 5, 7, 9],\n",
       " [0, 3, 6, 9, 3, 6, 9, 3, 6, 9],\n",
       " [0, 4, 8, 3, 7, 2, 6, 1, 5, 9],\n",
       " [0, 5, 1, 6, 2, 7, 3, 8, 4, 9],\n",
       " [0, 6, 3, 9, 6, 3, 9, 6, 3, 9],\n",
       " [0, 7, 5, 3, 1, 8, 6, 4, 2, 9],\n",
       " [0, 8, 7, 6, 5, 4, 3, 2, 1, 9],\n",
       " [0, 9, 9, 9, 9, 9, 9, 9, 9, 9]]"
      ]
     },
     "execution_count": 36,
     "metadata": {},
     "output_type": "execute_result"
    }
   ],
   "source": [
    "matrix_0_to_99[1]"
   ]
  },
  {
   "cell_type": "code",
   "execution_count": 37,
   "metadata": {},
   "outputs": [
    {
     "data": {
      "text/plain": [
       "[[0, 0, 0, 0, 0, 0, 0, 0, 0, 0],\n",
       " [0, 3, 6, 9, 3, 6, 9, 3, 6, 9],\n",
       " [0, 6, 3, 9, 6, 3, 9, 6, 3, 9],\n",
       " [0, 9, 9, 9, 9, 9, 9, 9, 9, 9],\n",
       " [0, 3, 6, 9, 3, 6, 9, 3, 6, 9],\n",
       " [0, 6, 3, 9, 6, 3, 9, 6, 3, 9],\n",
       " [0, 9, 9, 9, 9, 9, 9, 9, 9, 9],\n",
       " [0, 3, 6, 9, 3, 6, 9, 3, 6, 9],\n",
       " [0, 6, 3, 9, 6, 3, 9, 6, 3, 9],\n",
       " [0, 9, 9, 9, 9, 9, 9, 9, 9, 9]]"
      ]
     },
     "execution_count": 37,
     "metadata": {},
     "output_type": "execute_result"
    }
   ],
   "source": [
    "matrix_0_to_99[3]"
   ]
  },
  {
   "cell_type": "code",
   "execution_count": 38,
   "metadata": {},
   "outputs": [
    {
     "name": "stdout",
     "output_type": "stream",
     "text": [
      "Supermatriz de matrices: \n",
      "--------------------------\n",
      "Numero de matrices:  100\n",
      "Numero de filas por matriz:  10\n",
      "Numero de columnas por matriz:  10\n"
     ]
    }
   ],
   "source": [
    "print(\"Supermatriz de matrices: \")\n",
    "print(\"--------------------------\")\n",
    "print(\"Numero de matrices: \", len(matrix_0_to_99))\n",
    "print(\"Numero de filas por matriz: \", len(matrix_0_to_99[0]))\n",
    "print(\"Numero de columnas por matriz: \", len(matrix_0_to_99[0][0]))"
   ]
  },
  {
   "attachments": {},
   "cell_type": "markdown",
   "metadata": {},
   "source": [
    "## 2.3 - Representación grafica"
   ]
  },
  {
   "attachments": {},
   "cell_type": "markdown",
   "metadata": {},
   "source": [
    "La representacion grafica puede implementarse usando distintas tecnicas.\n",
    "Siguiendo con la estructura matricial, vamos a representar los datos como una supermatriz en la que cada dato esta cofificado mediante un color"
   ]
  },
  {
   "attachments": {},
   "cell_type": "markdown",
   "metadata": {},
   "source": [
    "### 2.3.1 - Manejo del color"
   ]
  },
  {
   "attachments": {},
   "cell_type": "markdown",
   "metadata": {},
   "source": [
    "#### Blanco y negro"
   ]
  },
  {
   "cell_type": "code",
   "execution_count": 39,
   "metadata": {},
   "outputs": [],
   "source": [
    "\n",
    "def number_to_gray(number):\n",
    "    gray = int((255/9) * number)\n",
    "    return (gray, gray, gray)\n"
   ]
  },
  {
   "cell_type": "code",
   "execution_count": 40,
   "metadata": {},
   "outputs": [
    {
     "name": "stdout",
     "output_type": "stream",
     "text": [
      "[(0, 0, 0), (28, 28, 28), (56, 56, 56), (85, 85, 85), (113, 113, 113), (141, 141, 141), (170, 170, 170), (198, 198, 198), (226, 226, 226), (255, 255, 255)]\n"
     ]
    }
   ],
   "source": [
    "# generamos una lista de colores en blanco y negro usando la funcion number_to_gray\n",
    "gray_list = []\n",
    "for i in range(10):\n",
    "    gray_list.append(number_to_gray(i))\n",
    "\n",
    "print(gray_list)"
   ]
  },
  {
   "attachments": {},
   "cell_type": "markdown",
   "metadata": {},
   "source": [
    "#### A color"
   ]
  },
  {
   "attachments": {},
   "cell_type": "markdown",
   "metadata": {},
   "source": [
    "Podemos definir tambien distintas paletas de color"
   ]
  },
  {
   "cell_type": "code",
   "execution_count": 86,
   "metadata": {},
   "outputs": [],
   "source": [
    "default_colors = {\n",
    "    0: (0, 0, 0),         # black\n",
    "    1: (255, 0, 0),      # red\n",
    "    2: (255, 128, 0),    # orange\n",
    "    3: (255, 255, 0),    # yellow\n",
    "    4: (0, 255, 0),      # green\n",
    "    5: (0, 255, 255),    # cyan\n",
    "    6: (0, 0, 255),      # blue\n",
    "    7: (128, 0, 255),    # purple\n",
    "    8: (255, 0, 255),    # magenta\n",
    "    9: (255, 255, 255)  # white\n",
    "}\n",
    "\n",
    "neon_colors = {\n",
    "    1: (255, 127, 0),     # neon orange\n",
    "    2: (255, 0, 255),     # neon pink\n",
    "    3: (0, 255, 0),       # neon green\n",
    "    4: (0, 255, 255),     # neon cyan\n",
    "    5: (255, 0, 0),       # neon red\n",
    "    6: (255, 165, 0),     # neon yellow\n",
    "    7: (0, 0, 255),       # neon blue\n",
    "    8: (255, 192, 203),   # neon pink\n",
    "    9: (173, 255, 47),    # neon green\n",
    "    0: (138, 43, 226)     # neon blue\n",
    "}\n",
    "\n",
    "blues = {\n",
    "    0: (0, 0, 0),         # black\n",
    "    1: (51, 153, 255),    # baby blue\n",
    "    2: (102, 255, 255),   # light blue\n",
    "    3: (0, 153, 153),     # teal\n",
    "    4: (0, 153, 255),     # steel blue\n",
    "    5: (0, 255, 255),     # cyan\n",
    "    6: (0, 0, 255),       # blue\n",
    "    7: (102, 0, 153),     # dark blue\n",
    "    8: (255, 0, 204),     # electric blue\n",
    "    9: (255, 255, 255)    # white\n",
    "}\n",
    "\n"
   ]
  },
  {
   "cell_type": "code",
   "execution_count": 42,
   "metadata": {},
   "outputs": [],
   "source": [
    "def number_to_color(number, palette=default_colors):\n",
    "    return palette[number]\n"
   ]
  },
  {
   "cell_type": "code",
   "execution_count": 43,
   "metadata": {},
   "outputs": [
    {
     "data": {
      "text/plain": [
       "(0, 255, 255)"
      ]
     },
     "execution_count": 43,
     "metadata": {},
     "output_type": "execute_result"
    }
   ],
   "source": [
    "number_to_color(5, default_colors)"
   ]
  },
  {
   "attachments": {},
   "cell_type": "markdown",
   "metadata": {},
   "source": [
    "### 2.3.2 - Generación de la imagen"
   ]
  },
  {
   "attachments": {},
   "cell_type": "markdown",
   "metadata": {},
   "source": [
    "Usamos la libreria Pillow"
   ]
  },
  {
   "cell_type": "code",
   "execution_count": 44,
   "metadata": {},
   "outputs": [
    {
     "name": "stdout",
     "output_type": "stream",
     "text": [
      "Defaulting to user installation because normal site-packages is not writeable\n",
      "Requirement already satisfied: Pillow in /usr/lib/python3/dist-packages (9.0.1)\n",
      "\n",
      "\u001b[1m[\u001b[0m\u001b[34;49mnotice\u001b[0m\u001b[1;39;49m]\u001b[0m\u001b[39;49m A new release of pip available: \u001b[0m\u001b[31;49m22.3.1\u001b[0m\u001b[39;49m -> \u001b[0m\u001b[32;49m23.0\u001b[0m\n",
      "\u001b[1m[\u001b[0m\u001b[34;49mnotice\u001b[0m\u001b[1;39;49m]\u001b[0m\u001b[39;49m To update, run: \u001b[0m\u001b[32;49mpython3 -m pip install --upgrade pip\u001b[0m\n",
      "Note: you may need to restart the kernel to use updated packages.\n"
     ]
    }
   ],
   "source": [
    "%pip install Pillow"
   ]
  },
  {
   "attachments": {},
   "cell_type": "markdown",
   "metadata": {},
   "source": [
    "Definimos una funcion para generar la imagen de la matriz"
   ]
  },
  {
   "cell_type": "code",
   "execution_count": 45,
   "metadata": {},
   "outputs": [],
   "source": [
    "from PIL import Image\n",
    "from IPython.display import display\n",
    "\n",
    "def create_matrix_image(data, scale=1, paint_function=number_to_color, palette=None):\n",
    "    width = len(data[0])\n",
    "    height = len(data)\n",
    "\n",
    "    image = Image.new('RGB', (width*scale, height*scale), (255, 255, 255))\n",
    "    pixels = image.load()\n",
    "    for i, row in enumerate(data):\n",
    "        for j, number in enumerate(row):\n",
    "            if palette is None:\n",
    "                color = paint_function(number)\n",
    "            else:\n",
    "                color = paint_function(number, palette)\n",
    "            for x in range(scale):\n",
    "                for y in range(scale):\n",
    "                    pixels[j*scale+x, i*scale+y] = color\n",
    "    return image"
   ]
  },
  {
   "attachments": {},
   "cell_type": "markdown",
   "metadata": {},
   "source": [
    "Definimos una funcion para generar la imagen d ela supermatriz"
   ]
  },
  {
   "cell_type": "code",
   "execution_count": 46,
   "metadata": {},
   "outputs": [],
   "source": [
    "# Creamos una imagen global a partir de la lista de sublistas de clusters\n",
    "# ----------------------------------------------------------------------\n",
    "\n",
    "def create_supermatrix_image(supermatrix, scale=1, paint_function=number_to_color):\n",
    "\n",
    "    w = len(supermatrix[0][0][0])\n",
    "    h = len(supermatrix[0][0])\n",
    "\n",
    "    width = w * len(supermatrix[0])\n",
    "    height = h * len(supermatrix)\n",
    "\n",
    "    image = Image.new('RGB', (width*scale, height*scale), (255, 255, 255))\n",
    "    pixels = image.load()\n",
    "\n",
    "    for i, row in enumerate(supermatrix):\n",
    "        for j, cluster in enumerate(row):\n",
    "            for x, row in enumerate(cluster):\n",
    "                for y, number in enumerate(row):\n",
    "                    color = paint_function(number)\n",
    "                    for a in range(scale):\n",
    "                        for b in range(scale):\n",
    "                            pixels[j*w*scale+y*scale+b, i*h*scale+x*scale+a] = color\n",
    "\n",
    "    return image\n"
   ]
  },
  {
   "attachments": {},
   "cell_type": "markdown",
   "metadata": {},
   "source": [
    "### 2.3.3 - Ejemplo de funcionamiento"
   ]
  },
  {
   "attachments": {},
   "cell_type": "markdown",
   "metadata": {},
   "source": [
    "#### Matrices"
   ]
  },
  {
   "attachments": {},
   "cell_type": "markdown",
   "metadata": {},
   "source": [
    "Podemos controlar el operador a la hora de generar la sucesión"
   ]
  },
  {
   "cell_type": "code",
   "execution_count": 47,
   "metadata": {},
   "outputs": [
    {
     "name": "stdout",
     "output_type": "stream",
     "text": [
      "Fibonacci +RB_10\n",
      "[0, 1, 1, 2, 3, 5, 8, 4, 3, 7]\n",
      "[1, 8, 9, 8, 8, 7, 6, 4, 1, 5]\n",
      "[6, 2, 8, 1, 9, 1, 1, 2, 3, 5]\n",
      "[8, 4, 3, 7, 1, 8, 9, 8, 8, 7]\n",
      "[6, 4, 1, 5, 6, 2, 8, 1, 9, 1]\n",
      "[1, 2, 3, 5, 8, 4, 3, 7, 1, 8]\n",
      "[9, 8, 8, 7, 6, 4, 1, 5, 6, 2]\n",
      "[8, 1, 9, 1, 1, 2, 3, 5, 8, 4]\n",
      "[3, 7, 1, 8, 9, 8, 8, 7, 6, 4]\n",
      "[1, 5, 6, 2, 8, 1, 9, 1, 1, 2]\n"
     ]
    },
    {
     "data": {
      "image/png": "[encoded data removed]",
      "text/plain": [
       "<PIL.Image.Image image mode=RGB size=100x100 at 0x7F0F8F6074F0>"
      ]
     },
     "metadata": {},
     "output_type": "display_data"
    },
    {
     "name": "stdout",
     "output_type": "stream",
     "text": [
      "Fibonacci -RB_10\n",
      "[0, 1, 1, 2, 3, 5, 8, 7, 1, 8]\n",
      "[0, 8, 2, 5, 7, 5, 3, 7, 3, 3]\n",
      "[6, 0, 3, 3, 8, 4, 1, 0, 3, 5]\n",
      "[8, 7, 1, 8, 0, 1, 2, 5, 7, 5]\n",
      "[5, 7, 3, 3, 8, 0, 3, 3, 8, 4]\n",
      "[1, 2, 3, 5, 8, 7, 1, 8, 0, 1]\n",
      "[2, 5, 0, 5, 5, 7, 3, 3, 8, 0]\n",
      "[3, 5, 8, 6, 1, 2, 3, 5, 8, 7]\n",
      "[1, 8, 2, 1, 2, 5, 0, 5, 5, 7]\n",
      "[3, 3, 8, 0, 3, 5, 1, 6, 1, 2]\n"
     ]
    },
    {
     "data": {
      "image/png": "[encoded data removed]",
      "text/plain": [
       "<PIL.Image.Image image mode=RGB size=100x100 at 0x7F0F8CFFFE50>"
      ]
     },
     "metadata": {},
     "output_type": "display_data"
    }
   ],
   "source": [
    "# Generamos una matriz de 10x10 empleando la sucesion de Fibonacci +RB_10\n",
    "# ----------------------------------------------------------------\n",
    "\n",
    "f_rb10add = gen_matrix(dataset_fibonacci, \"+\", 0, 10, 10)\n",
    "\n",
    "print(\"Fibonacci +RB_10\")\n",
    "for row in f_rb10add:\n",
    "    print(row)\n",
    "\n",
    "image = create_matrix_image(f_rb10add, scale=10, paint_function=number_to_color)\n",
    "display(image)\n",
    "\n",
    "\n",
    "# Generamos una matriz de 10x10 empleando la sucesion de Fibonacci -RB_10\n",
    "# ----------------------------------------------------------------\n",
    "\n",
    "f_rb10sub = gen_matrix(dataset_fibonacci, \"-\", 0, 10, 10)\n",
    "\n",
    "print(\"Fibonacci -RB_10\")\n",
    "for row in f_rb10sub:\n",
    "    print(row)\n",
    "\n",
    "image = create_matrix_image(f_rb10sub, scale=10, paint_function=number_to_color)\n",
    "display(image)\n"
   ]
  },
  {
   "attachments": {},
   "cell_type": "markdown",
   "metadata": {},
   "source": [
    "Podemos controlar el tamaño de la imagen"
   ]
  },
  {
   "cell_type": "code",
   "execution_count": 48,
   "metadata": {},
   "outputs": [
    {
     "name": "stdout",
     "output_type": "stream",
     "text": [
      "Scale: 10\n",
      "Palette: default_colors\n"
     ]
    },
    {
     "data": {
      "image/png": "[encoded data removed]",
      "text/plain": [
       "<PIL.Image.Image image mode=RGB size=100x100 at 0x7F0F8F64ED10>"
      ]
     },
     "metadata": {},
     "output_type": "display_data"
    }
   ],
   "source": [
    "print(\"Scale:\", 10)\n",
    "print(\"Palette:\", \"default_colors\")\n",
    "\n",
    "image = create_matrix_image(matrix_0_to_99[0], scale=10, paint_function=number_to_color)\n",
    "display(image)"
   ]
  },
  {
   "cell_type": "code",
   "execution_count": 49,
   "metadata": {},
   "outputs": [
    {
     "name": "stdout",
     "output_type": "stream",
     "text": [
      "Scale: 5\n",
      "Palette: default_colors\n"
     ]
    },
    {
     "data": {
      "image/png": "[encoded data removed]",
      "text/plain": [
       "<PIL.Image.Image image mode=RGB size=50x50 at 0x7F0F8D0923E0>"
      ]
     },
     "metadata": {},
     "output_type": "display_data"
    }
   ],
   "source": [
    "print(\"Scale:\", 5)\n",
    "print(\"Palette:\", \"default_colors\")\n",
    "\n",
    "image = create_matrix_image(matrix_0_to_99[0], scale=5, paint_function=number_to_color, palette=default_colors)\n",
    "display(image)"
   ]
  },
  {
   "cell_type": "code",
   "execution_count": 50,
   "metadata": {},
   "outputs": [
    {
     "name": "stdout",
     "output_type": "stream",
     "text": [
      "Scale: 15\n",
      "Palette: default_colors\n"
     ]
    },
    {
     "data": {
      "image/png": "[encoded data removed]",
      "text/plain": [
       "<PIL.Image.Image image mode=RGB size=150x150 at 0x7F0F8D093670>"
      ]
     },
     "metadata": {},
     "output_type": "display_data"
    }
   ],
   "source": [
    "print(\"Scale:\", 15)\n",
    "print(\"Palette:\", \"default_colors\")\n",
    "\n",
    "image = create_matrix_image(matrix_0_to_99[0], scale=15, paint_function=number_to_color, palette=default_colors)\n",
    "display(image)"
   ]
  },
  {
   "attachments": {},
   "cell_type": "markdown",
   "metadata": {},
   "source": [
    "Podemos usar distintas paletas"
   ]
  },
  {
   "cell_type": "code",
   "execution_count": 51,
   "metadata": {},
   "outputs": [
    {
     "name": "stdout",
     "output_type": "stream",
     "text": [
      "Scale: 10\n",
      "Palette: blues\n"
     ]
    },
    {
     "data": {
      "image/png": "[encoded data removed]",
      "text/plain": [
       "<PIL.Image.Image image mode=RGB size=100x100 at 0x7F0F8D091C00>"
      ]
     },
     "metadata": {},
     "output_type": "display_data"
    }
   ],
   "source": [
    "print(\"Scale:\", 10)\n",
    "print(\"Palette:\", \"blues\")\n",
    "\n",
    "image = create_matrix_image(matrix_0_to_99[0], scale=10, paint_function=number_to_color, palette=blues)\n",
    "display(image)"
   ]
  },
  {
   "attachments": {},
   "cell_type": "markdown",
   "metadata": {},
   "source": [
    "O representarlo en blanco y negro"
   ]
  },
  {
   "cell_type": "code",
   "execution_count": 52,
   "metadata": {},
   "outputs": [
    {
     "data": {
      "image/png": "[encoded data removed]",
      "text/plain": [
       "<PIL.Image.Image image mode=RGB size=100x100 at 0x7F0F8D093250>"
      ]
     },
     "metadata": {},
     "output_type": "display_data"
    }
   ],
   "source": [
    "image = create_matrix_image(matrix_0_to_99[0], scale=10, paint_function=number_to_gray)\n",
    "display(image)"
   ]
  },
  {
   "cell_type": "code",
   "execution_count": 53,
   "metadata": {},
   "outputs": [
    {
     "data": {
      "image/png": "[encoded data removed]",
      "text/plain": [
       "<PIL.Image.Image image mode=RGB size=100x100 at 0x7F0F8D092E90>"
      ]
     },
     "metadata": {},
     "output_type": "display_data"
    }
   ],
   "source": [
    "image = create_matrix_image(matrix_0_to_99[0], scale=10, paint_function=number_to_color, palette=neon_colors)\n",
    "display(image)"
   ]
  },
  {
   "attachments": {},
   "cell_type": "markdown",
   "metadata": {},
   "source": [
    "Podemos generar imagenes para cualquier sucesión"
   ]
  },
  {
   "attachments": {},
   "cell_type": "markdown",
   "metadata": {},
   "source": [
    "Podemos generar distintos tamaños de matriz"
   ]
  },
  {
   "cell_type": "code",
   "execution_count": 54,
   "metadata": {},
   "outputs": [
    {
     "data": {
      "image/png": "[encoded data removed]",
      "text/plain": [
       "<PIL.Image.Image image mode=RGB size=200x200 at 0x7F0F8F678160>"
      ]
     },
     "metadata": {},
     "output_type": "display_data"
    }
   ],
   "source": [
    "fibonacci_matrix = gen_matrix(dataset_fibonacci, \"+\", 0, 100, 100)\n",
    "\n",
    "image = create_matrix_image(fibonacci_matrix, scale=2, paint_function=number_to_color)\n",
    "display(image)"
   ]
  },
  {
   "attachments": {},
   "cell_type": "markdown",
   "metadata": {},
   "source": [
    "Podemos usar las sucesiones que necesitan mas parametros pasandoselos en forma de tupla usando el parámetro a_args"
   ]
  },
  {
   "cell_type": "code",
   "execution_count": 55,
   "metadata": {},
   "outputs": [
    {
     "data": {
      "image/png": "[encoded data removed]",
      "text/plain": [
       "<PIL.Image.Image image mode=RGB size=100x100 at 0x7F0F8D093B80>"
      ]
     },
     "metadata": {},
     "output_type": "display_data"
    }
   ],
   "source": [
    "# Generamos una matriz de 10x10 empleando la sucesion de exp_k (n^k) con k = 2\n",
    "# ----------------------------------------------------------------\n",
    "\n",
    "function_extra_args = (2,)      # La potencia de la sucesion exp_k (n^k) es 2 (n^2)\n",
    "\n",
    "exp_k2 = gen_matrix(exp_k, \"+\", 0, 10, 10, a_args=function_extra_args)\n",
    "image = create_matrix_image(exp_k2, scale=10, paint_function=number_to_color)\n",
    "display(image)\n"
   ]
  },
  {
   "cell_type": "code",
   "execution_count": 56,
   "metadata": {},
   "outputs": [
    {
     "data": {
      "image/png": "[encoded data removed]",
      "text/plain": [
       "<PIL.Image.Image image mode=RGB size=100x100 at 0x7F0F8D0933A0>"
      ]
     },
     "metadata": {},
     "output_type": "display_data"
    }
   ],
   "source": [
    "# Generamos una matriz de 10x10 empleando la sucesion de exp_k (n^k) con k = 3\n",
    "# ----------------------------------------------------------------\n",
    "\n",
    "function_extra_args = (3,)      # La potencia de la sucesion exp_k (n^k) es 2 (n^2)\n",
    "\n",
    "exp_k2 = gen_matrix(exp_k, \"+\", 0, 10, 10, a_args=function_extra_args)\n",
    "image = create_matrix_image(exp_k2, scale=10, paint_function=number_to_color)\n",
    "display(image)\n"
   ]
  },
  {
   "attachments": {},
   "cell_type": "markdown",
   "metadata": {},
   "source": [
    "#### Supermatrices"
   ]
  },
  {
   "attachments": {},
   "cell_type": "markdown",
   "metadata": {},
   "source": [
    "La generacion de imagenes de supermatrices esta basada en la concatenacion de las imagenes individuales de cada submatriz"
   ]
  },
  {
   "cell_type": "code",
   "execution_count": 57,
   "metadata": {},
   "outputs": [],
   "source": [
    "def build_supermatrix(clusters_wide, clusters_high, clusters):\n",
    "    cluster_matrix = []\n",
    "    for i in range(clusters_high):\n",
    "        row = []\n",
    "        for j in range(clusters_wide):\n",
    "            row.append(clusters[i*clusters_wide + j])\n",
    "        cluster_matrix.append(row)\n",
    "    return cluster_matrix"
   ]
  },
  {
   "attachments": {},
   "cell_type": "markdown",
   "metadata": {},
   "source": [
    "Probamos la generacion"
   ]
  },
  {
   "cell_type": "code",
   "execution_count": 58,
   "metadata": {},
   "outputs": [
    {
     "data": {
      "image/png": "[encoded data removed]",
      "text/plain": [
       "<PIL.Image.Image image mode=RGB size=400x400 at 0x7F0F8F6BFBE0>"
      ]
     },
     "execution_count": 58,
     "metadata": {},
     "output_type": "execute_result"
    }
   ],
   "source": [
    "# Configuracion de la sucesion deseada\n",
    "# --------------------------------\n",
    "\n",
    "a = producto            # Funcion que calcula los numeros de la sucesion\n",
    "n_0 = 0                 # Termino inicial de la sucesion\n",
    "\n",
    "# Configuracion de los clusters\n",
    "# --------------------------------\n",
    "w = 10                  # Ancho del cluster\n",
    "h = 10                  # Alto del cluster\n",
    "\n",
    "# Configuracion de la matriz de clusters deseada\n",
    "m_w = 10                # Ancho de la matriz de clusters\n",
    "m_h = 10                # Alto de la matriz de clusters\n",
    "offset = w*h            # Offset entre clusters (distancia entre clusters)\n",
    "\n",
    "# Configuracion de la lista de clusters\n",
    "# --------------------------------\n",
    "cluster_count = m_w * m_h\n",
    "\n",
    "\n",
    "# Obtenemos la lista de clusters\n",
    "# --------------------------------\n",
    "clusters = gen_matrix_list(a, \"+\", n_0, w, h, cluster_count, offset)\n",
    "\n",
    "# Creamos la matriz de clusters\n",
    "cluster_matrix = build_supermatrix(m_w, m_h, clusters)\n",
    "\n",
    "# Imagen global\n",
    "create_supermatrix_image(\n",
    "    cluster_matrix, \n",
    "    scale=4,\n",
    "    paint_function=number_to_color\n",
    ")"
   ]
  },
  {
   "cell_type": "code",
   "execution_count": 59,
   "metadata": {},
   "outputs": [
    {
     "data": {
      "image/png": "[encoded data removed]",
      "text/plain": [
       "<PIL.Image.Image image mode=RGB size=1000x1000 at 0x7F0F8CFFFDF0>"
      ]
     },
     "execution_count": 59,
     "metadata": {},
     "output_type": "execute_result"
    }
   ],
   "source": [
    "# Configuracion de la sucesion deseada\n",
    "# --------------------------------\n",
    "\n",
    "a = producto          # Funcion que calcula los numeros de la sucesion\n",
    "method = \"+\"          # Metodo de generacion de la sucesion\n",
    "n_0 = 0                 # Termino inicial de la sucesion\n",
    "\n",
    "\n",
    "# Configuracion de los clusters\n",
    "# --------------------------------\n",
    "w = 10                  # Ancho del cluster\n",
    "h = 10                  # Alto del cluster\n",
    "\n",
    "# Configuracion de la matriz de clusters deseada\n",
    "m_w = 100                # Ancho de la matriz de clusters\n",
    "m_h = 100                # Alto de la matriz de clusters\n",
    "offset = w*h            # Offset entre clusters (distancia entre clusters)\n",
    "\n",
    "# Configuracion de la lista de clusters\n",
    "# --------------------------------\n",
    "matrix_count = m_w * m_h\n",
    "\n",
    "\n",
    "# Obtenemos la lista de clusters\n",
    "# --------------------------------\n",
    "clusters = gen_matrix_list(a, method, n_0, w, h, matrix_count, offset)\n",
    "\n",
    "# Creamos la matriz de clusters\n",
    "cluster_matrix = build_supermatrix(m_w, m_h, clusters)\n",
    "\n",
    "# Imagen global\n",
    "create_supermatrix_image(\n",
    "    cluster_matrix, \n",
    "    scale=1,\n",
    "    paint_function=number_to_color\n",
    ")"
   ]
  },
  {
   "attachments": {},
   "cell_type": "markdown",
   "metadata": {},
   "source": [
    "Podemos facilitar este proceso mediante la implemntacion de ese codigo en una funcion:"
   ]
  },
  {
   "cell_type": "code",
   "execution_count": 60,
   "metadata": {},
   "outputs": [],
   "source": [
    "def gen_supermatrix_image(a, method, n_0, w, h, m_w, m_h, scale, paint_function, a_args=None):\n",
    "    '''\n",
    "    Crea una imagen de una supermatriz de tamaño m_w x m_h\n",
    "\n",
    "    Params:\n",
    "        a: funcion que calcula los numeros de la sucesion\n",
    "        method: metodo de generacion de la sucesion\n",
    "        n_0: termino inicial de la sucesion\n",
    "        w: ancho de la matriz\n",
    "        h: alto de la matriz\n",
    "        m_w: ancho de la supermatriz\n",
    "        m_h: alto de la supermatriz\n",
    "        scale: escala de la imagen\n",
    "        paint_function: funcion que pinta los numeros de la matriz\n",
    "    '''\n",
    "    offset = w*h\n",
    "    matrix_count = m_w * m_h\n",
    "    matrix_list = gen_matrix_list(a, method, n_0, w, h, matrix_count, offset, a_args)\n",
    "    cluster_matrix = build_supermatrix(m_w, m_h, matrix_list)\n",
    "    return create_supermatrix_image(cluster_matrix, scale, paint_function)\n"
   ]
  },
  {
   "cell_type": "code",
   "execution_count": 61,
   "metadata": {},
   "outputs": [
    {
     "data": {
      "image/png": "[encoded data removed]",
      "text/plain": [
       "<PIL.Image.Image image mode=RGB size=400x400 at 0x7F0F8F6D1C30>"
      ]
     },
     "execution_count": 61,
     "metadata": {},
     "output_type": "execute_result"
    }
   ],
   "source": [
    "gen_supermatrix_image(\n",
    "    producto,     # Funcion que calcula los numeros de la sucesion\n",
    "    \"+\",          # Metodo de generacion de la sucesion \"+\", \"-\", \"*\", \"/\", \"\n",
    "    0,              # Termino inicial de la sucesion\n",
    "    10, 10,         # Ancho y alto del cluster\n",
    "    10, 10,         # Ancho y alto de la matriz de clusters\n",
    "    4,              # Escala de la imagen  4 = 1 pixel * 4 -> 1 pixel se expande en 4 pixeles\n",
    "    number_to_color # Funcion que asigna un color a cada numero\n",
    ")"
   ]
  },
  {
   "attachments": {},
   "cell_type": "markdown",
   "metadata": {},
   "source": [
    "# <h1><span style=\"color:#8e44ad\"><span style=\"font-family:Arial,Helvetica,sans-serif\">3 - Experimentación</span></span></h1>"
   ]
  },
  {
   "attachments": {},
   "cell_type": "markdown",
   "metadata": {},
   "source": [
    "## 3.1 - Producto de las cifras de un numero"
   ]
  },
  {
   "attachments": {},
   "cell_type": "markdown",
   "metadata": {},
   "source": [
    "Esta sucesion consiste en la multiplicación de las cifras (digitos) de un numero entre si, y posteriormente usar la reducción a la base"
   ]
  },
  {
   "attachments": {},
   "cell_type": "markdown",
   "metadata": {},
   "source": [
    "### +RB_10"
   ]
  },
  {
   "attachments": {},
   "cell_type": "markdown",
   "metadata": {},
   "source": [
    "Supermatriz de la sucesion producto bajo el operador RB_10+"
   ]
  },
  {
   "cell_type": "code",
   "execution_count": 62,
   "metadata": {},
   "outputs": [
    {
     "data": {
      "image/png": "[encoded data removed]",
      "text/plain": [
       "<PIL.Image.Image image mode=RGB size=400x400 at 0x7F0F8F605E10>"
      ]
     },
     "execution_count": 62,
     "metadata": {},
     "output_type": "execute_result"
    }
   ],
   "source": [
    "gen_supermatrix_image(\n",
    "    producto,     # Funcion que calcula los numeros de la sucesion\n",
    "    \"+\",          # Metodo de generacion de la sucesion \"+\", \"-\", \"*\", \"/\", \"\n",
    "    0,              # Termino inicial de la sucesion\n",
    "    10, 10,         # Ancho y alto del cluster\n",
    "    10, 10,         # Ancho y alto de la matriz de clusters\n",
    "    4,              # Escala de la imagen  4 = 1 pixel * 4 -> 1 pixel se expande en 4 pixeles\n",
    "    number_to_color # Funcion que asigna un color a cada numero\n",
    ")"
   ]
  },
  {
   "attachments": {},
   "cell_type": "markdown",
   "metadata": {},
   "source": [
    "Supermatriz de la sucesion producto bajo el operador RB_10+ en blanco y negro"
   ]
  },
  {
   "cell_type": "code",
   "execution_count": 63,
   "metadata": {},
   "outputs": [
    {
     "data": {
      "image/png": "[encoded data removed]",
      "text/plain": [
       "<PIL.Image.Image image mode=RGB size=400x400 at 0x7F0F8CFFFF40>"
      ]
     },
     "execution_count": 63,
     "metadata": {},
     "output_type": "execute_result"
    }
   ],
   "source": [
    "gen_supermatrix_image(\n",
    "    producto,     # Funcion que calcula los numeros de la sucesion\n",
    "    \"+\",          # Metodo de generacion de la sucesion \"+\", \"-\", \"*\", \"/\",\n",
    "    0,              # Termino inicial de la sucesion\n",
    "    10, 10,         # Ancho y alto del cluster\n",
    "    10, 10,         # Ancho y alto de la matriz de clusters\n",
    "    4,              # Escala de la imagen  4 = 1 pixel * 4 -> 1 pixel se expande en 4 pixeles\n",
    "    number_to_gray # Funcion que asigna un color a cada numero\n",
    ")"
   ]
  },
  {
   "attachments": {},
   "cell_type": "markdown",
   "metadata": {},
   "source": [
    "### -RB_10"
   ]
  },
  {
   "attachments": {},
   "cell_type": "markdown",
   "metadata": {},
   "source": [
    "Supermatriz de la sucesion producto bajo el operador RB_10-"
   ]
  },
  {
   "cell_type": "code",
   "execution_count": 64,
   "metadata": {},
   "outputs": [
    {
     "data": {
      "image/png": "[encoded data removed]",
      "text/plain": [
       "<PIL.Image.Image image mode=RGB size=400x400 at 0x7F0F8F9EE620>"
      ]
     },
     "metadata": {},
     "output_type": "display_data"
    }
   ],
   "source": [
    "color_img = gen_supermatrix_image(\n",
    "    producto,     # Funcion que calcula los numeros de la sucesion\n",
    "    \"-\",          # Metodo de generacion de la sucesion \"+\", \"-\", \"*\", \"/\", \"\n",
    "    0,              # Termino inicial de la sucesion\n",
    "    10, 10,         # Ancho y alto del cluster\n",
    "    10, 10,         # Ancho y alto de la matriz de clusters\n",
    "    4,              # Escala de la imagen  4 = 1 pixel * 4 -> 1 pixel se expande en 4 pixeles\n",
    "    number_to_color # Funcion que asigna un color a cada numero\n",
    ")\n",
    "\n",
    "display(color_img)"
   ]
  },
  {
   "attachments": {},
   "cell_type": "markdown",
   "metadata": {},
   "source": [
    "Supermatriz de la sucesion producto bajo el operador RB_10-"
   ]
  },
  {
   "cell_type": "code",
   "execution_count": 65,
   "metadata": {},
   "outputs": [
    {
     "data": {
      "image/png": "[encoded data removed]",
      "text/plain": [
       "<PIL.Image.Image image mode=RGB size=400x400 at 0x7F0F8CFFFFA0>"
      ]
     },
     "metadata": {},
     "output_type": "display_data"
    }
   ],
   "source": [
    "bw_img = gen_supermatrix_image(\n",
    "    producto,     # Funcion que calcula los numeros de la sucesion\n",
    "    \"-\",          # Metodo de generacion de la sucesion \"+\", \"-\", \"*\", \"/\",\n",
    "    0,              # Termino inicial de la sucesion\n",
    "    10, 10,         # Ancho y alto del cluster\n",
    "    10, 10,         # Ancho y alto de la matriz de clusters\n",
    "    4,              # Escala de la imagen  4 = 1 pixel * 4 -> 1 pixel se expande en 4 pixeles\n",
    "    number_to_gray # Funcion que asigna un color a cada numero\n",
    ")\n",
    "\n",
    "display(bw_img)"
   ]
  },
  {
   "cell_type": "code",
   "execution_count": 66,
   "metadata": {},
   "outputs": [
    {
     "name": "stdout",
     "output_type": "stream",
     "text": [
      "Defaulting to user installation because normal site-packages is not writeable\n",
      "Requirement already satisfied: opencv-python in /home/dnllns/.local/lib/python3.10/site-packages (4.7.0.68)\n",
      "Requirement already satisfied: numpy>=1.21.2 in /home/dnllns/.local/lib/python3.10/site-packages (from opencv-python) (1.23.4)\n",
      "\n",
      "\u001b[1m[\u001b[0m\u001b[34;49mnotice\u001b[0m\u001b[1;39;49m]\u001b[0m\u001b[39;49m A new release of pip available: \u001b[0m\u001b[31;49m22.3.1\u001b[0m\u001b[39;49m -> \u001b[0m\u001b[32;49m23.0\u001b[0m\n",
      "\u001b[1m[\u001b[0m\u001b[34;49mnotice\u001b[0m\u001b[1;39;49m]\u001b[0m\u001b[39;49m To update, run: \u001b[0m\u001b[32;49mpython3 -m pip install --upgrade pip\u001b[0m\n",
      "Note: you may need to restart the kernel to use updated packages.\n"
     ]
    }
   ],
   "source": [
    "%pip install opencv-python"
   ]
  },
  {
   "cell_type": "code",
   "execution_count": 126,
   "metadata": {},
   "outputs": [
    {
     "data": {
      "image/png": "[encoded data removed]",
      "text/plain": [
       "<Figure size 1300x500 with 2 Axes>"
      ]
     },
     "metadata": {},
     "output_type": "display_data"
    }
   ],
   "source": [
    "import matplotlib.pyplot as plt\n",
    "from collections import defaultdict\n",
    "from PIL import Image\n",
    "import numpy as np\n",
    "\n",
    "\n",
    "color_dict = default_colors\n",
    "\n",
    "img = color_img\n",
    "img = np.array(img)\n",
    "\n",
    "color_counts = defaultdict(int)\n",
    "for row in img:\n",
    "    for pixel in row:\n",
    "        color_counts[tuple(pixel)] += 1\n",
    "\n",
    "total_pixels = img.shape[0] * img.shape[1]\n",
    "color_percentages = {color: count / total_pixels * 100 for color, count in color_counts.items()}\n",
    "\n",
    "color_dict = {digit: tuple(np.array(color) / 255) for digit, color in color_dict.items()}\n",
    "\n",
    "\n",
    "\n",
    "# fig, ax = plt.subplots(1, 2, figsize=(12, 5))\n",
    "# ax[0].imshow(img)\n",
    "# ax[0].set_title(\"Imagen\")\n",
    "# ax[1].bar(color_dict.keys(), color_percentages.values(), color=list(color_dict.values()), edgecolor='black')\n",
    "# ax[1].set_facecolor('gray')\n",
    "# ax[1].set_title(\"Porcentaje de aparición de cada color\")\n",
    "# ax[1].set_xlabel(\"Color\")\n",
    "\n",
    "# #Añadir una leyenda para cada color\n",
    "# ax[1].legend(color_dict.keys(), loc='center left', bbox_to_anchor=(1, 0.5))\n",
    "\n",
    "# for i, v in enumerate(color_percentages.values()):\n",
    "#     ax[1].text(i-0.5, v + 0.5, str(round(v, 2)) + '%', color='black', fontweight=\"bold\", fontsize=6)\n",
    "\n",
    "# plt.show()\n",
    "\n",
    "\n",
    "fig, ax = plt.subplots(1, 2, figsize=(13, 5))\n",
    "ax[0].imshow(img)\n",
    "ax[0].set_title(\"Imagen\")\n",
    "\n",
    "bars = ax[1].bar(color_dict.keys(), color_percentages.values(), color=list(color_dict.values()), edgecolor='black')\n",
    "\n",
    "ax[1].set_facecolor('pink')\n",
    "ax[1].set_title(\"Porcentaje de aparición de cada color\")\n",
    "ax[1].set_xlabel(\"Color\")\n",
    "\n",
    "for i, bar in enumerate(bars):\n",
    "    color = list(color_dict.values())[i]\n",
    "    ax[1].text(bar.get_x() + bar.get_width()/2 , bar.get_height() + 0.5, str(round(bar.get_height(), 2)) + '%', ha='center', color='black', fontsize=8, fontweight='bold')\n",
    "    bar.set_color(color)\n",
    "    bar.set_label(list(color_dict.keys())[i])\n",
    "\n",
    "ax[1].legend(loc='center left', bbox_to_anchor=(1, 0.5), edgecolor='black', )\n",
    "plt.show()\n",
    "\n"
   ]
  },
  {
   "attachments": {},
   "cell_type": "markdown",
   "metadata": {},
   "source": [
    "## 3.2 - Sucesion n^k"
   ]
  },
  {
   "attachments": {},
   "cell_type": "markdown",
   "metadata": {},
   "source": [
    "Sucesion de n² en forma de supermatriz de 10x10"
   ]
  },
  {
   "cell_type": "code",
   "execution_count": 113,
   "metadata": {},
   "outputs": [
    {
     "data": {
      "image/png": "[encoded data removed]",
      "text/plain": [
       "<PIL.Image.Image image mode=RGB size=400x400 at 0x7FF8350BB1C0>"
      ]
     },
     "execution_count": 113,
     "metadata": {},
     "output_type": "execute_result"
    }
   ],
   "source": [
    "gen_supermatrix_image(\n",
    "    exp_k,     # Funcion que calcula los numeros de la sucesion\n",
    "    \"+\",          # Metodo de generacion de la sucesion \"+\", \"-\", \"*\", \"/\",\n",
    "    0,              # Termino inicial de la sucesion\n",
    "    10, 10,         # Ancho y alto del cluster\n",
    "    10, 10,         # Ancho y alto de la matriz de clusters\n",
    "    4,              # Escala de la imagen  4 = 1 pixel * 4 -> 1 pixel se expande en 4 pixeles\n",
    "    number_to_color,# Funcion que asigna un color a cada numero\n",
    "    a_args=(2, )    # Argumentos de la funcion a\n",
    ")"
   ]
  },
  {
   "attachments": {},
   "cell_type": "markdown",
   "metadata": {},
   "source": [
    "En blanco y negro"
   ]
  },
  {
   "cell_type": "code",
   "execution_count": 115,
   "metadata": {},
   "outputs": [
    {
     "data": {
      "image/png": "[encoded data removed]",
      "text/plain": [
       "<PIL.Image.Image image mode=RGB size=400x400 at 0x7FF835046FB0>"
      ]
     },
     "execution_count": 115,
     "metadata": {},
     "output_type": "execute_result"
    }
   ],
   "source": [
    "gen_supermatrix_image(\n",
    "    exp_k,     # Funcion que calcula los numeros de la sucesion\n",
    "    \"+\",          # Metodo de generacion de la sucesion \"+\", \"-\", \"*\", \"/\",\n",
    "    0,              # Termino inicial de la sucesion\n",
    "    10, 10,         # Ancho y alto del cluster\n",
    "    10, 10,         # Ancho y alto de la matriz de clusters\n",
    "    4,              # Escala de la imagen  4 = 1 pixel * 4 -> 1 pixel se expande en 4 pixeles\n",
    "    number_to_gray,# Funcion que asigna un color a cada numero\n",
    "    a_args=(2, )    # Argumentos de la funcion a\n",
    ")"
   ]
  },
  {
   "attachments": {},
   "cell_type": "markdown",
   "metadata": {},
   "source": [
    "Sucesion de n² en forma de supermatriz de 10x10 con operador de resta"
   ]
  },
  {
   "cell_type": "code",
   "execution_count": 114,
   "metadata": {},
   "outputs": [
    {
     "data": {
      "image/png": "[encoded data removed]",
      "text/plain": [
       "<PIL.Image.Image image mode=RGB size=400x400 at 0x7FF834F0E740>"
      ]
     },
     "execution_count": 114,
     "metadata": {},
     "output_type": "execute_result"
    }
   ],
   "source": [
    "gen_supermatrix_image(\n",
    "    exp_k,     # Funcion que calcula los numeros de la sucesion\n",
    "    \"-\",          # Metodo de generacion de la sucesion \"+\", \"-\", \"*\", \"/\",\n",
    "    0,              # Termino inicial de la sucesion\n",
    "    10, 10,         # Ancho y alto del cluster\n",
    "    10, 10,         # Ancho y alto de la matriz de clusters\n",
    "    4,              # Escala de la imagen  4 = 1 pixel * 4 -> 1 pixel se expande en 4 pixeles\n",
    "    number_to_color,# Funcion que asigna un color a cada numero\n",
    "    a_args=(2, )    # Argumentos de la funcion a\n",
    ")"
   ]
  },
  {
   "attachments": {},
   "cell_type": "markdown",
   "metadata": {},
   "source": [
    "n³ con metodo suma"
   ]
  },
  {
   "cell_type": "code",
   "execution_count": 122,
   "metadata": {},
   "outputs": [
    {
     "data": {
      "image/png": "[encoded data removed]",
      "text/plain": [
       "<PIL.Image.Image image mode=RGB size=400x400 at 0x7FF805BAF310>"
      ]
     },
     "execution_count": 122,
     "metadata": {},
     "output_type": "execute_result"
    }
   ],
   "source": [
    "gen_supermatrix_image(\n",
    "    exp_k,     # Funcion que calcula los numeros de la sucesion\n",
    "    \"+\",          # Metodo de generacion de la sucesion \"+\", \"-\", \"*\", \"/\",\n",
    "    0,              # Termino inicial de la sucesion\n",
    "    10, 10,         # Ancho y alto del cluster\n",
    "    10, 10,         # Ancho y alto de la matriz de clusters\n",
    "    4,              # Escala de la imagen  4 = 1 pixel * 4 -> 1 pixel se expande en 4 pixeles\n",
    "    number_to_color,# Funcion que asigna un color a cada numero\n",
    "    a_args=(3, )    # Argumentos de la funcion a\n",
    ")\n"
   ]
  },
  {
   "cell_type": "code",
   "execution_count": 124,
   "metadata": {},
   "outputs": [
    {
     "data": {
      "image/png": "[encoded data removed]",
      "text/plain": [
       "<PIL.Image.Image image mode=RGB size=400x400 at 0x7FF83507BB80>"
      ]
     },
     "execution_count": 124,
     "metadata": {},
     "output_type": "execute_result"
    }
   ],
   "source": [
    "gen_supermatrix_image(\n",
    "    exp_k,     # Funcion que calcula los numeros de la sucesion\n",
    "    \"-\",          # Metodo de generacion de la sucesion \"+\", \"-\", \"*\", \"/\",\n",
    "    0,              # Termino inicial de la sucesion\n",
    "    10, 10,         # Ancho y alto del cluster\n",
    "    10, 10,         # Ancho y alto de la matriz de clusters\n",
    "    4,              # Escala de la imagen  4 = 1 pixel * 4 -> 1 pixel se expande en 4 pixeles\n",
    "    number_to_color,# Funcion que asigna un color a cada numero\n",
    "    a_args=(3, )    # Argumentos de la funcion a\n",
    ")\n"
   ]
  },
  {
   "attachments": {},
   "cell_type": "markdown",
   "metadata": {},
   "source": [
    "n⁴"
   ]
  },
  {
   "cell_type": "code",
   "execution_count": 143,
   "metadata": {},
   "outputs": [
    {
     "data": {
      "image/png": "[encoded data removed]",
      "text/plain": [
       "<PIL.Image.Image image mode=RGB size=400x400 at 0x7FF834F6E6E0>"
      ]
     },
     "execution_count": 143,
     "metadata": {},
     "output_type": "execute_result"
    }
   ],
   "source": [
    "gen_supermatrix_image(\n",
    "    exp_k,     # Funcion que calcula los numeros de la sucesion\n",
    "    \"+\",          # Metodo de generacion de la sucesion \"+\", \"-\", \"*\", \"/\",\n",
    "    0,              # Termino inicial de la sucesion\n",
    "    10, 10,         # Ancho y alto del cluster\n",
    "    10, 10,         # Ancho y alto de la matriz de clusters\n",
    "    4,              # Escala de la imagen  4 = 1 pixel * 4 -> 1 pixel se expande en 4 pixeles\n",
    "    number_to_color,# Funcion que asigna un color a cada numero\n",
    "    a_args=(4, )    # Argumentos de la funcion a\n",
    ")\n"
   ]
  },
  {
   "attachments": {},
   "cell_type": "markdown",
   "metadata": {},
   "source": [
    "n⁵"
   ]
  },
  {
   "cell_type": "code",
   "execution_count": 144,
   "metadata": {},
   "outputs": [
    {
     "data": {
      "image/png": "[encoded data removed]",
      "text/plain": [
       "<PIL.Image.Image image mode=RGB size=400x400 at 0x7FF834F51BA0>"
      ]
     },
     "execution_count": 144,
     "metadata": {},
     "output_type": "execute_result"
    }
   ],
   "source": [
    "gen_supermatrix_image(\n",
    "    exp_k,     # Funcion que calcula los numeros de la sucesion\n",
    "    \"+\",          # Metodo de generacion de la sucesion \"+\", \"-\", \"*\", \"/\",\n",
    "    0,              # Termino inicial de la sucesion\n",
    "    10, 10,         # Ancho y alto del cluster\n",
    "    10, 10,         # Ancho y alto de la matriz de clusters\n",
    "    4,              # Escala de la imagen  4 = 1 pixel * 4 -> 1 pixel se expande en 4 pixeles\n",
    "    number_to_color,# Funcion que asigna un color a cada numero\n",
    "    a_args=(5, )    # Argumentos de la funcion a\n",
    ")\n"
   ]
  },
  {
   "attachments": {},
   "cell_type": "markdown",
   "metadata": {},
   "source": [
    "n⁶"
   ]
  },
  {
   "cell_type": "code",
   "execution_count": 146,
   "metadata": {},
   "outputs": [
    {
     "data": {
      "image/png": "[encoded data removed]",
      "text/plain": [
       "<PIL.Image.Image image mode=RGB size=400x400 at 0x7FF834F58A30>"
      ]
     },
     "execution_count": 146,
     "metadata": {},
     "output_type": "execute_result"
    }
   ],
   "source": [
    "gen_supermatrix_image(\n",
    "    exp_k,     # Funcion que calcula los numeros de la sucesion\n",
    "    \"+\",          # Metodo de generacion de la sucesion \"+\", \"-\", \"*\", \"/\",\n",
    "    0,              # Termino inicial de la sucesion\n",
    "    10, 10,         # Ancho y alto del cluster\n",
    "    10, 10,         # Ancho y alto de la matriz de clusters\n",
    "    4,              # Escala de la imagen  4 = 1 pixel * 4 -> 1 pixel se expande en 4 pixeles\n",
    "    number_to_color,# Funcion que asigna un color a cada numero\n",
    "    a_args=(6, )    # Argumentos de la funcion a\n",
    ")\n"
   ]
  },
  {
   "attachments": {},
   "cell_type": "markdown",
   "metadata": {},
   "source": [
    "n⁷"
   ]
  },
  {
   "cell_type": "code",
   "execution_count": 147,
   "metadata": {},
   "outputs": [
    {
     "data": {
      "image/png": "[encoded data removed]",
      "text/plain": [
       "<PIL.Image.Image image mode=RGB size=400x400 at 0x7FF834F2E1D0>"
      ]
     },
     "execution_count": 147,
     "metadata": {},
     "output_type": "execute_result"
    }
   ],
   "source": [
    "gen_supermatrix_image(\n",
    "    exp_k,     # Funcion que calcula los numeros de la sucesion\n",
    "    \"+\",          # Metodo de generacion de la sucesion \"+\", \"-\", \"*\", \"/\",\n",
    "    0,              # Termino inicial de la sucesion\n",
    "    10, 10,         # Ancho y alto del cluster\n",
    "    10, 10,         # Ancho y alto de la matriz de clusters\n",
    "    4,              # Escala de la imagen  4 = 1 pixel * 4 -> 1 pixel se expande en 4 pixeles\n",
    "    number_to_color,# Funcion que asigna un color a cada numero\n",
    "    a_args=(7, )    # Argumentos de la funcion a\n",
    ")\n"
   ]
  },
  {
   "attachments": {},
   "cell_type": "markdown",
   "metadata": {},
   "source": [
    "n⁸"
   ]
  },
  {
   "cell_type": "code",
   "execution_count": 148,
   "metadata": {},
   "outputs": [
    {
     "data": {
      "image/png": "[encoded data removed]",
      "text/plain": [
       "<PIL.Image.Image image mode=RGB size=400x400 at 0x7FF834EBD330>"
      ]
     },
     "execution_count": 148,
     "metadata": {},
     "output_type": "execute_result"
    }
   ],
   "source": [
    "gen_supermatrix_image(\n",
    "    exp_k,     # Funcion que calcula los numeros de la sucesion\n",
    "    \"+\",          # Metodo de generacion de la sucesion \"+\", \"-\", \"*\", \"/\",\n",
    "    0,              # Termino inicial de la sucesion\n",
    "    10, 10,         # Ancho y alto del cluster\n",
    "    10, 10,         # Ancho y alto de la matriz de clusters\n",
    "    4,              # Escala de la imagen  4 = 1 pixel * 4 -> 1 pixel se expande en 4 pixeles\n",
    "    number_to_color,# Funcion que asigna un color a cada numero\n",
    "    a_args=(8, )    # Argumentos de la funcion a\n",
    ")\n"
   ]
  },
  {
   "attachments": {},
   "cell_type": "markdown",
   "metadata": {},
   "source": [
    "n⁹"
   ]
  },
  {
   "cell_type": "code",
   "execution_count": 145,
   "metadata": {},
   "outputs": [
    {
     "data": {
      "image/png": "[encoded data removed]",
      "text/plain": [
       "<PIL.Image.Image image mode=RGB size=400x400 at 0x7FF8504AC250>"
      ]
     },
     "execution_count": 145,
     "metadata": {},
     "output_type": "execute_result"
    }
   ],
   "source": [
    "gen_supermatrix_image(\n",
    "    exp_k,     # Funcion que calcula los numeros de la sucesion\n",
    "    \"+\",          # Metodo de generacion de la sucesion \"+\", \"-\", \"*\", \"/\",\n",
    "    0,              # Termino inicial de la sucesion\n",
    "    10, 10,         # Ancho y alto del cluster\n",
    "    10, 10,         # Ancho y alto de la matriz de clusters\n",
    "    4,              # Escala de la imagen  4 = 1 pixel * 4 -> 1 pixel se expande en 4 pixeles\n",
    "    number_to_color,# Funcion que asigna un color a cada numero\n",
    "    a_args=(9, )    # Argumentos de la funcion a\n",
    ")\n"
   ]
  },
  {
   "attachments": {},
   "cell_type": "markdown",
   "metadata": {},
   "source": [
    "### Sucesion de n_primo"
   ]
  },
  {
   "cell_type": "code",
   "execution_count": 119,
   "metadata": {},
   "outputs": [
    {
     "data": {
      "image/png": "[encoded data removed]",
      "text/plain": [
       "<PIL.Image.Image image mode=RGB size=100x100 at 0x7FF8350CC5B0>"
      ]
     },
     "execution_count": 119,
     "metadata": {},
     "output_type": "execute_result"
    }
   ],
   "source": [
    "gen_supermatrix_image(\n",
    "    n_primo,      # Funcion que calcula los numeros de la sucesion\n",
    "    \"+\",          # Metodo de generacion de la sucesion \"+\", \"-\", \"*\", \"/\",\n",
    "    1,              # Termino inicial de la sucesion\n",
    "    10, 10,         # Ancho y alto del cluster\n",
    "    1, 1,           # Ancho y alto de la matriz de clusters\n",
    "    10,              # Escala de la imagen  4 = 1 pixel * 4 -> 1 pixel se expande en 4 pixeles\n",
    "    number_to_color # Funcion que asigna un color a cada numero\n",
    ")"
   ]
  },
  {
   "cell_type": "code",
   "execution_count": 120,
   "metadata": {},
   "outputs": [
    {
     "data": {
      "image/png": "[encoded data removed]",
      "text/plain": [
       "<PIL.Image.Image image mode=RGB size=100x100 at 0x7FF8350C2D40>"
      ]
     },
     "execution_count": 120,
     "metadata": {},
     "output_type": "execute_result"
    }
   ],
   "source": [
    "gen_supermatrix_image(\n",
    "    n_primo,      # Funcion que calcula los numeros de la sucesion\n",
    "    \"-\",          # Metodo de generacion de la sucesion \"+\", \"-\", \"*\", \"/\",\n",
    "    1,              # Termino inicial de la sucesion\n",
    "    10, 10,         # Ancho y alto del cluster\n",
    "    1, 1,           # Ancho y alto de la matriz de clusters\n",
    "    10,              # Escala de la imagen  4 = 1 pixel * 4 -> 1 pixel se expande en 4 pixeles\n",
    "    number_to_color # Funcion que asigna un color a cada numero\n",
    ")"
   ]
  },
  {
   "cell_type": "code",
   "execution_count": 142,
   "metadata": {},
   "outputs": [
    {
     "data": {
      "image/png": "[encoded data removed]",
      "text/plain": [
       "<PIL.Image.Image image mode=RGB size=400x40>"
      ]
     },
     "execution_count": 142,
     "metadata": {},
     "output_type": "execute_result"
    }
   ],
   "source": [
    "gen_supermatrix_image(\n",
    "    n_primo,         # Funcion que calcula los numeros de la sucesion\n",
    "    0,               # Termino inicial de la sucesion\n",
    "    10, 10,          # Ancho y alto del cluster\n",
    "    10, 1,           # Ancho y alto de la matriz de clusters\n",
    "    4,               # Escala de la imagen  4 = 1 pixel * 4 -> 1 pixel se expande en 4 pixeles\n",
    "    number_to_color  # Funcion que asigna un color a cada numero\n",
    ")"
   ]
  },
  {
   "attachments": {},
   "cell_type": "markdown",
   "metadata": {},
   "source": [
    "Vista de los numeros primos en forma de supermatriz 10x10"
   ]
  },
  {
   "cell_type": "code",
   "execution_count": 143,
   "metadata": {},
   "outputs": [
    {
     "data": {
      "image/png": "[encoded data removed]",
      "text/plain": [
       "<PIL.Image.Image image mode=RGB size=400x400>"
      ]
     },
     "execution_count": 143,
     "metadata": {},
     "output_type": "execute_result"
    }
   ],
   "source": [
    "gen_supermatrix_image(\n",
    "    n_primo,        # Funcion que calcula los numeros de la sucesion\n",
    "    \"+\",            # Metodo de generacion de la sucesion \"+\", \"-\", \"*\", \"/\",\n",
    "    0,              # Termino inicial de la sucesion\n",
    "    10, 10,         # Ancho y alto del cluster\n",
    "    10, 10,         # Ancho y alto de la matriz de clusters\n",
    "    4,              # Escala de la imagen  4 = 1 pixel * 4 -> 1 pixel se expande en 4 pixeles\n",
    "    number_to_color # Funcion que asigna un color a cada numero\n",
    ")"
   ]
  },
  {
   "attachments": {},
   "cell_type": "markdown",
   "metadata": {},
   "source": [
    "Vista de los numeros primos como una matriz de 100x100"
   ]
  },
  {
   "cell_type": "code",
   "execution_count": 84,
   "metadata": {},
   "outputs": [
    {
     "data": {
      "image/png": "[encoded data removed]",
      "text/plain": [
       "<PIL.Image.Image image mode=RGB size=400x400>"
      ]
     },
     "execution_count": 84,
     "metadata": {},
     "output_type": "execute_result"
    }
   ],
   "source": [
    "gen_supermatrix_image(\n",
    "    n_primo,        # Funcion que calcula los numeros de la sucesion\n",
    "    \"+\",            # Metodo de generacion de la sucesion \"+\", \"-\", \"*\", \"/\",\n",
    "    0,              # Termino inicial de la sucesion\n",
    "    100, 100,         # Ancho y alto del cluster\n",
    "    1, 1,         # Ancho y alto de la matriz de clusters\n",
    "    4,              # Escala de la imagen  4 = 1 pixel * 4 -> 1 pixel se expande en 4 pixeles\n",
    "    number_to_color # Funcion que asigna un color a cada numero\n",
    ")"
   ]
  },
  {
   "attachments": {},
   "cell_type": "markdown",
   "metadata": {},
   "source": [
    "### Sucesion de fibonacci"
   ]
  },
  {
   "cell_type": "code",
   "execution_count": 128,
   "metadata": {},
   "outputs": [
    {
     "data": {
      "image/png": "[encoded data removed]",
      "text/plain": [
       "<PIL.Image.Image image mode=RGB size=400x400 at 0x7FF8350C3C10>"
      ]
     },
     "execution_count": 128,
     "metadata": {},
     "output_type": "execute_result"
    }
   ],
   "source": [
    "gen_supermatrix_image(\n",
    "    fibonacci,\n",
    "    \"+\",\n",
    "    0,\n",
    "    10, 10,\n",
    "    10, 10,\n",
    "    4,\n",
    "    number_to_color\n",
    ")"
   ]
  },
  {
   "cell_type": "code",
   "execution_count": 130,
   "metadata": {},
   "outputs": [
    {
     "data": {
      "image/png": "[encoded data removed]",
      "text/plain": [
       "<PIL.Image.Image image mode=RGB size=400x400 at 0x7FF8350C3F40>"
      ]
     },
     "execution_count": 130,
     "metadata": {},
     "output_type": "execute_result"
    }
   ],
   "source": [
    "gen_supermatrix_image(\n",
    "    fibonacci,\n",
    "    \"-\",\n",
    "    0,\n",
    "    10, 10,\n",
    "    10, 10,\n",
    "    4,\n",
    "    number_to_color\n",
    ")"
   ]
  },
  {
   "attachments": {},
   "cell_type": "markdown",
   "metadata": {},
   "source": [
    "Fibonacci visto como una matriz de 1 cluster de 100x100"
   ]
  },
  {
   "cell_type": "code",
   "execution_count": 129,
   "metadata": {},
   "outputs": [
    {
     "data": {
      "image/png": "[encoded data removed]",
      "text/plain": [
       "<PIL.Image.Image image mode=RGB size=400x400 at 0x7FF834F52530>"
      ]
     },
     "execution_count": 129,
     "metadata": {},
     "output_type": "execute_result"
    }
   ],
   "source": [
    "gen_supermatrix_image(\n",
    "    fibonacci,\n",
    "    \"+\",\n",
    "    0,\n",
    "    100, 100,\n",
    "    1, 1,\n",
    "    4,\n",
    "    number_to_color\n",
    ")"
   ]
  },
  {
   "cell_type": "code",
   "execution_count": 131,
   "metadata": {},
   "outputs": [
    {
     "data": {
      "image/png": "[encoded data removed]",
      "text/plain": [
       "<PIL.Image.Image image mode=RGB size=400x400 at 0x7FF8350C3520>"
      ]
     },
     "execution_count": 131,
     "metadata": {},
     "output_type": "execute_result"
    }
   ],
   "source": [
    "gen_supermatrix_image(\n",
    "    fibonacci,\n",
    "    \"-\",\n",
    "    0,\n",
    "    100, 100,\n",
    "    1, 1,\n",
    "    4,\n",
    "    number_to_color\n",
    ")"
   ]
  },
  {
   "attachments": {},
   "cell_type": "markdown",
   "metadata": {},
   "source": [
    "### Sucesion Pi_Euler (Custom)"
   ]
  },
  {
   "cell_type": "code",
   "execution_count": 138,
   "metadata": {},
   "outputs": [
    {
     "name": "stdout",
     "output_type": "stream",
     "text": [
      "pi_euler_n(0) =  0\n",
      "pi_euler_n(1) =  8\n",
      "pi_euler_n(2) =  17\n",
      "pi_euler_n(3) =  25\n",
      "pi_euler_n(4) =  34\n"
     ]
    }
   ],
   "source": [
    "import math\n",
    "\n",
    "def pi_euler_n(n):\n",
    "    return int(((math.pi)*(math.e))*n)\n",
    "\n",
    "# Testeamos la funcion\n",
    "print(\"pi_euler_n(0) = \", pi_euler_n(0))\n",
    "print(\"pi_euler_n(1) = \", pi_euler_n(1))\n",
    "print(\"pi_euler_n(2) = \", pi_euler_n(2))\n",
    "print(\"pi_euler_n(3) = \", pi_euler_n(3))\n",
    "print(\"pi_euler_n(4) = \", pi_euler_n(4))"
   ]
  },
  {
   "cell_type": "code",
   "execution_count": 140,
   "metadata": {},
   "outputs": [
    {
     "data": {
      "image/png": "[encoded data removed]",
      "text/plain": [
       "<PIL.Image.Image image mode=RGB size=400x400 at 0x7FF834F2E0E0>"
      ]
     },
     "execution_count": 140,
     "metadata": {},
     "output_type": "execute_result"
    }
   ],
   "source": [
    "# Obtenemos la representacion de imagen de base\n",
    "gen_supermatrix_image(\n",
    "    pi_euler_n,\n",
    "    \"+\",\n",
    "    0,\n",
    "    10, 10,\n",
    "    10, 10,\n",
    "    4,\n",
    "    number_to_color\n",
    ")"
   ]
  },
  {
   "cell_type": "code",
   "execution_count": 142,
   "metadata": {},
   "outputs": [
    {
     "data": {
      "image/png": "[encoded data removed]",
      "text/plain": [
       "<PIL.Image.Image image mode=RGB size=400x400 at 0x7FF834F0E4D0>"
      ]
     },
     "execution_count": 142,
     "metadata": {},
     "output_type": "execute_result"
    }
   ],
   "source": [
    "# Obtenemos la representacion de imagen de base\n",
    "gen_supermatrix_image(\n",
    "    pi_euler_n,\n",
    "    \"+\",\n",
    "    0,\n",
    "    10, 10,\n",
    "    10, 10,\n",
    "    4,\n",
    "    number_to_gray\n",
    ")"
   ]
  },
  {
   "cell_type": "code",
   "execution_count": 141,
   "metadata": {},
   "outputs": [
    {
     "data": {
      "image/png": "[encoded data removed]",
      "text/plain": [
       "<PIL.Image.Image image mode=RGB size=400x400 at 0x7FF834F53520>"
      ]
     },
     "execution_count": 141,
     "metadata": {},
     "output_type": "execute_result"
    }
   ],
   "source": [
    "# Obtenemos la representacion de imagen de base\n",
    "gen_supermatrix_image(\n",
    "    pi_euler_n,\n",
    "    \"-\",\n",
    "    0,\n",
    "    10, 10,\n",
    "    10, 10,\n",
    "    4,\n",
    "    number_to_color\n",
    ")"
   ]
  }
 ],
 "metadata": {
  "kernelspec": {
   "display_name": "Python 3",
   "language": "python",
   "name": "python3"
  },
  "language_info": {
   "codemirror_mode": {
    "name": "ipython",
    "version": 3
   },
   "file_extension": ".py",
   "mimetype": "text/x-python",
   "name": "python",
   "nbconvert_exporter": "python",
   "pygments_lexer": "ipython3",
   "version": "3.10.6"
  },
  "orig_nbformat": 4,
  "vscode": {
   "interpreter": {
    "hash": "916dbcbb3f70747c44a77c7bcd40155683ae19c65e1c03b4aa3499c5328201f1"
   }
  }
 },
 "nbformat": 4,
 "nbformat_minor": 2
}
